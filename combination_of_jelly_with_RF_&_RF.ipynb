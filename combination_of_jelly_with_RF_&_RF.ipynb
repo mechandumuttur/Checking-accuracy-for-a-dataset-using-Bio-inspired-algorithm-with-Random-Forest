{
  "nbformat": 4,
  "nbformat_minor": 0,
  "metadata": {
    "colab": {
      "provenance": [],
      "include_colab_link": true
    },
    "kernelspec": {
      "name": "python3",
      "display_name": "Python 3"
    },
    "language_info": {
      "name": "python"
    }
  },
  "cells": [
    {
      "cell_type": "markdown",
      "metadata": {
        "id": "view-in-github",
        "colab_type": "text"
      },
      "source": [
        "<a href=\"https://colab.research.google.com/github/mechandumuttur/Checking-accuracy-for-a-dataset-using-Bio-inspired-algorithm-with-Random-Forest/blob/main/combination_of_jelly_with_RF_%26_RF.ipynb\" target=\"_parent\"><img src=\"https://colab.research.google.com/assets/colab-badge.svg\" alt=\"Open In Colab\"/></a>"
      ]
    },
    {
      "cell_type": "markdown",
      "source": [
        "## **Install pandas,numpy**"
      ],
      "metadata": {
        "id": "_OMm6jLmMEkO"
      }
    },
    {
      "cell_type": "code",
      "execution_count": null,
      "metadata": {
        "colab": {
          "base_uri": "https://localhost:8080/"
        },
        "id": "4xFj_emvL7Vc",
        "outputId": "3e0d4fab-75ff-4e30-9397-c1e7bba43493"
      },
      "outputs": [
        {
          "output_type": "stream",
          "name": "stdout",
          "text": [
            "Looking in indexes: https://pypi.org/simple, https://us-python.pkg.dev/colab-wheels/public/simple/\n",
            "Requirement already satisfied: pandas in /usr/local/lib/python3.10/dist-packages (1.5.3)\n",
            "Requirement already satisfied: python-dateutil>=2.8.1 in /usr/local/lib/python3.10/dist-packages (from pandas) (2.8.2)\n",
            "Requirement already satisfied: pytz>=2020.1 in /usr/local/lib/python3.10/dist-packages (from pandas) (2022.7.1)\n",
            "Requirement already satisfied: numpy>=1.21.0 in /usr/local/lib/python3.10/dist-packages (from pandas) (1.22.4)\n",
            "Requirement already satisfied: six>=1.5 in /usr/local/lib/python3.10/dist-packages (from python-dateutil>=2.8.1->pandas) (1.16.0)\n"
          ]
        }
      ],
      "source": [
        "pip install pandas"
      ]
    },
    {
      "cell_type": "code",
      "source": [
        "pip install numpy"
      ],
      "metadata": {
        "colab": {
          "base_uri": "https://localhost:8080/"
        },
        "id": "Xf0VE80wMKhm",
        "outputId": "bd0a0b8e-79d9-4d9f-cea4-cce5753fe935"
      },
      "execution_count": null,
      "outputs": [
        {
          "output_type": "stream",
          "name": "stdout",
          "text": [
            "Looking in indexes: https://pypi.org/simple, https://us-python.pkg.dev/colab-wheels/public/simple/\n",
            "Requirement already satisfied: numpy in /usr/local/lib/python3.10/dist-packages (1.22.4)\n"
          ]
        }
      ]
    },
    {
      "cell_type": "markdown",
      "source": [
        "# **import pandas and numpy**"
      ],
      "metadata": {
        "id": "M5UgqgeSMPT_"
      }
    },
    {
      "cell_type": "code",
      "source": [
        "import pandas as pd\n",
        "import numpy as np"
      ],
      "metadata": {
        "id": "0MdT5lF8MTfs"
      },
      "execution_count": null,
      "outputs": []
    },
    {
      "cell_type": "markdown",
      "source": [
        "# **Load Dataset**"
      ],
      "metadata": {
        "id": "5Z6MbEO-MXV6"
      }
    },
    {
      "cell_type": "code",
      "source": [
        "from google.colab import drive\n"
      ],
      "metadata": {
        "id": "Xfl5W_0ZMaNn"
      },
      "execution_count": null,
      "outputs": []
    },
    {
      "cell_type": "code",
      "source": [
        "drive.mount('/content/drive')"
      ],
      "metadata": {
        "colab": {
          "base_uri": "https://localhost:8080/"
        },
        "id": "o1fkuF_xMd6o",
        "outputId": "002f4c00-4d72-4adc-ac14-9dfb438fba1d"
      },
      "execution_count": null,
      "outputs": [
        {
          "output_type": "stream",
          "name": "stdout",
          "text": [
            "Mounted at /content/drive\n"
          ]
        }
      ]
    },
    {
      "cell_type": "code",
      "source": [
        "data = pd.read_csv('/content/drive/MyDrive/rf & svm/MERGED_6LOWPAN.csv')"
      ],
      "metadata": {
        "id": "yqxlj9_yMk7w"
      },
      "execution_count": null,
      "outputs": []
    },
    {
      "cell_type": "markdown",
      "source": [
        "# **retrieving the dataset**"
      ],
      "metadata": {
        "id": "meU_ARBaMyg4"
      }
    },
    {
      "cell_type": "code",
      "source": [
        "data"
      ],
      "metadata": {
        "colab": {
          "base_uri": "https://localhost:8080/",
          "height": 424
        },
        "id": "Kwv7Uw8-M0nJ",
        "outputId": "defcf550-5c60-4f4d-ebb1-e4b51d024269"
      },
      "execution_count": null,
      "outputs": [
        {
          "output_type": "execute_result",
          "data": {
            "text/plain": [
              "    No.       Time                 Source            Destination Protocol  \\\n",
              "0     1   0.000000                     ::         ff02::1:ff00:2   ICMPv6   \n",
              "1     2   0.000163                     ::         ff02::1:ff00:2   ICMPv6   \n",
              "2     3   0.001000      00:00:00_00:00:04  IPv6mcast_ff:00:00:04   0xffff   \n",
              "3     4   0.001000                     ::         ff02::1:ff00:1   ICMPv6   \n",
              "4     5   0.002144                     ::         ff02::1:ff00:2   ICMPv6   \n",
              "..  ...        ...                    ...                    ...      ...   \n",
              "75   76  10.004284  2001:1::200:ff:fe00:3  2001:2::200:ff:fe00:2      TCP   \n",
              "76   77  15.681820    fe80::200:ff:fe00:2                ff02::2   ICMPv6   \n",
              "77   78  15.683938    fe80::200:ff:fe00:2                ff02::2   ICMPv6   \n",
              "78   79  16.385103      00:00:00_00:00:03           IPv6mcast_02   0xffff   \n",
              "79   80  16.387205      00:00:00_00:00:03           IPv6mcast_02   0xffff   \n",
              "\n",
              "    Length                                               Info  \n",
              "0       90  Neighbor Solicitation for fe80::200:ff:fe00:2 ...  \n",
              "1       90  Neighbor Solicitation for 2001:2::200:ff:fe00:...  \n",
              "2       64                                        Ethernet II  \n",
              "3       90  Neighbor Solicitation for fe80::200:ff:fe00:1 ...  \n",
              "4       90  Neighbor Solicitation for fe80::200:ff:fe00:2 ...  \n",
              "..     ...                                                ...  \n",
              "75      90  49153  >  9000 [RST] Seq=0 Win=131072 Len=0 TS...  \n",
              "76      74         Router Solicitation from 00:00:00:00:00:02  \n",
              "77      74         Router Solicitation from 00:00:00:00:00:02  \n",
              "78      64                                        Ethernet II  \n",
              "79      64                                        Ethernet II  \n",
              "\n",
              "[80 rows x 7 columns]"
            ],
            "text/html": [
              "\n",
              "  <div id=\"df-7d148913-7bbf-479c-9eba-2a4bd8a0bbe7\">\n",
              "    <div class=\"colab-df-container\">\n",
              "      <div>\n",
              "<style scoped>\n",
              "    .dataframe tbody tr th:only-of-type {\n",
              "        vertical-align: middle;\n",
              "    }\n",
              "\n",
              "    .dataframe tbody tr th {\n",
              "        vertical-align: top;\n",
              "    }\n",
              "\n",
              "    .dataframe thead th {\n",
              "        text-align: right;\n",
              "    }\n",
              "</style>\n",
              "<table border=\"1\" class=\"dataframe\">\n",
              "  <thead>\n",
              "    <tr style=\"text-align: right;\">\n",
              "      <th></th>\n",
              "      <th>No.</th>\n",
              "      <th>Time</th>\n",
              "      <th>Source</th>\n",
              "      <th>Destination</th>\n",
              "      <th>Protocol</th>\n",
              "      <th>Length</th>\n",
              "      <th>Info</th>\n",
              "    </tr>\n",
              "  </thead>\n",
              "  <tbody>\n",
              "    <tr>\n",
              "      <th>0</th>\n",
              "      <td>1</td>\n",
              "      <td>0.000000</td>\n",
              "      <td>::</td>\n",
              "      <td>ff02::1:ff00:2</td>\n",
              "      <td>ICMPv6</td>\n",
              "      <td>90</td>\n",
              "      <td>Neighbor Solicitation for fe80::200:ff:fe00:2 ...</td>\n",
              "    </tr>\n",
              "    <tr>\n",
              "      <th>1</th>\n",
              "      <td>2</td>\n",
              "      <td>0.000163</td>\n",
              "      <td>::</td>\n",
              "      <td>ff02::1:ff00:2</td>\n",
              "      <td>ICMPv6</td>\n",
              "      <td>90</td>\n",
              "      <td>Neighbor Solicitation for 2001:2::200:ff:fe00:...</td>\n",
              "    </tr>\n",
              "    <tr>\n",
              "      <th>2</th>\n",
              "      <td>3</td>\n",
              "      <td>0.001000</td>\n",
              "      <td>00:00:00_00:00:04</td>\n",
              "      <td>IPv6mcast_ff:00:00:04</td>\n",
              "      <td>0xffff</td>\n",
              "      <td>64</td>\n",
              "      <td>Ethernet II</td>\n",
              "    </tr>\n",
              "    <tr>\n",
              "      <th>3</th>\n",
              "      <td>4</td>\n",
              "      <td>0.001000</td>\n",
              "      <td>::</td>\n",
              "      <td>ff02::1:ff00:1</td>\n",
              "      <td>ICMPv6</td>\n",
              "      <td>90</td>\n",
              "      <td>Neighbor Solicitation for fe80::200:ff:fe00:1 ...</td>\n",
              "    </tr>\n",
              "    <tr>\n",
              "      <th>4</th>\n",
              "      <td>5</td>\n",
              "      <td>0.002144</td>\n",
              "      <td>::</td>\n",
              "      <td>ff02::1:ff00:2</td>\n",
              "      <td>ICMPv6</td>\n",
              "      <td>90</td>\n",
              "      <td>Neighbor Solicitation for fe80::200:ff:fe00:2 ...</td>\n",
              "    </tr>\n",
              "    <tr>\n",
              "      <th>...</th>\n",
              "      <td>...</td>\n",
              "      <td>...</td>\n",
              "      <td>...</td>\n",
              "      <td>...</td>\n",
              "      <td>...</td>\n",
              "      <td>...</td>\n",
              "      <td>...</td>\n",
              "    </tr>\n",
              "    <tr>\n",
              "      <th>75</th>\n",
              "      <td>76</td>\n",
              "      <td>10.004284</td>\n",
              "      <td>2001:1::200:ff:fe00:3</td>\n",
              "      <td>2001:2::200:ff:fe00:2</td>\n",
              "      <td>TCP</td>\n",
              "      <td>90</td>\n",
              "      <td>49153  &gt;  9000 [RST] Seq=0 Win=131072 Len=0 TS...</td>\n",
              "    </tr>\n",
              "    <tr>\n",
              "      <th>76</th>\n",
              "      <td>77</td>\n",
              "      <td>15.681820</td>\n",
              "      <td>fe80::200:ff:fe00:2</td>\n",
              "      <td>ff02::2</td>\n",
              "      <td>ICMPv6</td>\n",
              "      <td>74</td>\n",
              "      <td>Router Solicitation from 00:00:00:00:00:02</td>\n",
              "    </tr>\n",
              "    <tr>\n",
              "      <th>77</th>\n",
              "      <td>78</td>\n",
              "      <td>15.683938</td>\n",
              "      <td>fe80::200:ff:fe00:2</td>\n",
              "      <td>ff02::2</td>\n",
              "      <td>ICMPv6</td>\n",
              "      <td>74</td>\n",
              "      <td>Router Solicitation from 00:00:00:00:00:02</td>\n",
              "    </tr>\n",
              "    <tr>\n",
              "      <th>78</th>\n",
              "      <td>79</td>\n",
              "      <td>16.385103</td>\n",
              "      <td>00:00:00_00:00:03</td>\n",
              "      <td>IPv6mcast_02</td>\n",
              "      <td>0xffff</td>\n",
              "      <td>64</td>\n",
              "      <td>Ethernet II</td>\n",
              "    </tr>\n",
              "    <tr>\n",
              "      <th>79</th>\n",
              "      <td>80</td>\n",
              "      <td>16.387205</td>\n",
              "      <td>00:00:00_00:00:03</td>\n",
              "      <td>IPv6mcast_02</td>\n",
              "      <td>0xffff</td>\n",
              "      <td>64</td>\n",
              "      <td>Ethernet II</td>\n",
              "    </tr>\n",
              "  </tbody>\n",
              "</table>\n",
              "<p>80 rows × 7 columns</p>\n",
              "</div>\n",
              "      <button class=\"colab-df-convert\" onclick=\"convertToInteractive('df-7d148913-7bbf-479c-9eba-2a4bd8a0bbe7')\"\n",
              "              title=\"Convert this dataframe to an interactive table.\"\n",
              "              style=\"display:none;\">\n",
              "        \n",
              "  <svg xmlns=\"http://www.w3.org/2000/svg\" height=\"24px\"viewBox=\"0 0 24 24\"\n",
              "       width=\"24px\">\n",
              "    <path d=\"M0 0h24v24H0V0z\" fill=\"none\"/>\n",
              "    <path d=\"M18.56 5.44l.94 2.06.94-2.06 2.06-.94-2.06-.94-.94-2.06-.94 2.06-2.06.94zm-11 1L8.5 8.5l.94-2.06 2.06-.94-2.06-.94L8.5 2.5l-.94 2.06-2.06.94zm10 10l.94 2.06.94-2.06 2.06-.94-2.06-.94-.94-2.06-.94 2.06-2.06.94z\"/><path d=\"M17.41 7.96l-1.37-1.37c-.4-.4-.92-.59-1.43-.59-.52 0-1.04.2-1.43.59L10.3 9.45l-7.72 7.72c-.78.78-.78 2.05 0 2.83L4 21.41c.39.39.9.59 1.41.59.51 0 1.02-.2 1.41-.59l7.78-7.78 2.81-2.81c.8-.78.8-2.07 0-2.86zM5.41 20L4 18.59l7.72-7.72 1.47 1.35L5.41 20z\"/>\n",
              "  </svg>\n",
              "      </button>\n",
              "      \n",
              "  <style>\n",
              "    .colab-df-container {\n",
              "      display:flex;\n",
              "      flex-wrap:wrap;\n",
              "      gap: 12px;\n",
              "    }\n",
              "\n",
              "    .colab-df-convert {\n",
              "      background-color: #E8F0FE;\n",
              "      border: none;\n",
              "      border-radius: 50%;\n",
              "      cursor: pointer;\n",
              "      display: none;\n",
              "      fill: #1967D2;\n",
              "      height: 32px;\n",
              "      padding: 0 0 0 0;\n",
              "      width: 32px;\n",
              "    }\n",
              "\n",
              "    .colab-df-convert:hover {\n",
              "      background-color: #E2EBFA;\n",
              "      box-shadow: 0px 1px 2px rgba(60, 64, 67, 0.3), 0px 1px 3px 1px rgba(60, 64, 67, 0.15);\n",
              "      fill: #174EA6;\n",
              "    }\n",
              "\n",
              "    [theme=dark] .colab-df-convert {\n",
              "      background-color: #3B4455;\n",
              "      fill: #D2E3FC;\n",
              "    }\n",
              "\n",
              "    [theme=dark] .colab-df-convert:hover {\n",
              "      background-color: #434B5C;\n",
              "      box-shadow: 0px 1px 3px 1px rgba(0, 0, 0, 0.15);\n",
              "      filter: drop-shadow(0px 1px 2px rgba(0, 0, 0, 0.3));\n",
              "      fill: #FFFFFF;\n",
              "    }\n",
              "  </style>\n",
              "\n",
              "      <script>\n",
              "        const buttonEl =\n",
              "          document.querySelector('#df-7d148913-7bbf-479c-9eba-2a4bd8a0bbe7 button.colab-df-convert');\n",
              "        buttonEl.style.display =\n",
              "          google.colab.kernel.accessAllowed ? 'block' : 'none';\n",
              "\n",
              "        async function convertToInteractive(key) {\n",
              "          const element = document.querySelector('#df-7d148913-7bbf-479c-9eba-2a4bd8a0bbe7');\n",
              "          const dataTable =\n",
              "            await google.colab.kernel.invokeFunction('convertToInteractive',\n",
              "                                                     [key], {});\n",
              "          if (!dataTable) return;\n",
              "\n",
              "          const docLinkHtml = 'Like what you see? Visit the ' +\n",
              "            '<a target=\"_blank\" href=https://colab.research.google.com/notebooks/data_table.ipynb>data table notebook</a>'\n",
              "            + ' to learn more about interactive tables.';\n",
              "          element.innerHTML = '';\n",
              "          dataTable['output_type'] = 'display_data';\n",
              "          await google.colab.output.renderOutput(dataTable, element);\n",
              "          const docLink = document.createElement('div');\n",
              "          docLink.innerHTML = docLinkHtml;\n",
              "          element.appendChild(docLink);\n",
              "        }\n",
              "      </script>\n",
              "    </div>\n",
              "  </div>\n",
              "  "
            ]
          },
          "metadata": {},
          "execution_count": 7
        }
      ]
    },
    {
      "cell_type": "markdown",
      "source": [
        "The info() method provides useful information about the DataFrame, including the number of rows and columns, column names, data types of columns, and memory usage."
      ],
      "metadata": {
        "id": "s9B0G_tqCfS5"
      }
    },
    {
      "cell_type": "code",
      "source": [
        "data.info()"
      ],
      "metadata": {
        "colab": {
          "base_uri": "https://localhost:8080/"
        },
        "id": "zuH4JeEAM61s",
        "outputId": "5e52e7c5-f604-4ed9-86c7-b8c0d88aba32"
      },
      "execution_count": null,
      "outputs": [
        {
          "output_type": "stream",
          "name": "stdout",
          "text": [
            "<class 'pandas.core.frame.DataFrame'>\n",
            "RangeIndex: 80 entries, 0 to 79\n",
            "Data columns (total 7 columns):\n",
            " #   Column       Non-Null Count  Dtype  \n",
            "---  ------       --------------  -----  \n",
            " 0   No.          80 non-null     int64  \n",
            " 1   Time         80 non-null     float64\n",
            " 2   Source       80 non-null     object \n",
            " 3   Destination  80 non-null     object \n",
            " 4   Protocol     80 non-null     object \n",
            " 5   Length       80 non-null     int64  \n",
            " 6   Info         80 non-null     object \n",
            "dtypes: float64(1), int64(2), object(4)\n",
            "memory usage: 4.5+ KB\n"
          ]
        }
      ]
    },
    {
      "cell_type": "code",
      "source": [
        "#And if we want a more statistical analysis of our data we can use the .describe() method\n",
        "data.describe()"
      ],
      "metadata": {
        "colab": {
          "base_uri": "https://localhost:8080/",
          "height": 300
        },
        "id": "SnlEXkr2NAQ0",
        "outputId": "e66882b1-d72e-4b8a-ecf5-03a996dfdde2"
      },
      "execution_count": null,
      "outputs": [
        {
          "output_type": "execute_result",
          "data": {
            "text/plain": [
              "           No.       Time     Length\n",
              "count  80.0000  80.000000  80.000000\n",
              "mean   40.5000   3.279644  79.025000\n",
              "std    23.2379   4.562906  11.305846\n",
              "min     1.0000   0.000000  64.000000\n",
              "25%    20.7500   0.017857  64.000000\n",
              "50%    40.5000   0.524455  78.000000\n",
              "75%    60.2500   5.171296  90.000000\n",
              "max    80.0000  16.387205  94.000000"
            ],
            "text/html": [
              "\n",
              "  <div id=\"df-c0b765db-f769-4fd2-957e-37c62c6f063b\">\n",
              "    <div class=\"colab-df-container\">\n",
              "      <div>\n",
              "<style scoped>\n",
              "    .dataframe tbody tr th:only-of-type {\n",
              "        vertical-align: middle;\n",
              "    }\n",
              "\n",
              "    .dataframe tbody tr th {\n",
              "        vertical-align: top;\n",
              "    }\n",
              "\n",
              "    .dataframe thead th {\n",
              "        text-align: right;\n",
              "    }\n",
              "</style>\n",
              "<table border=\"1\" class=\"dataframe\">\n",
              "  <thead>\n",
              "    <tr style=\"text-align: right;\">\n",
              "      <th></th>\n",
              "      <th>No.</th>\n",
              "      <th>Time</th>\n",
              "      <th>Length</th>\n",
              "    </tr>\n",
              "  </thead>\n",
              "  <tbody>\n",
              "    <tr>\n",
              "      <th>count</th>\n",
              "      <td>80.0000</td>\n",
              "      <td>80.000000</td>\n",
              "      <td>80.000000</td>\n",
              "    </tr>\n",
              "    <tr>\n",
              "      <th>mean</th>\n",
              "      <td>40.5000</td>\n",
              "      <td>3.279644</td>\n",
              "      <td>79.025000</td>\n",
              "    </tr>\n",
              "    <tr>\n",
              "      <th>std</th>\n",
              "      <td>23.2379</td>\n",
              "      <td>4.562906</td>\n",
              "      <td>11.305846</td>\n",
              "    </tr>\n",
              "    <tr>\n",
              "      <th>min</th>\n",
              "      <td>1.0000</td>\n",
              "      <td>0.000000</td>\n",
              "      <td>64.000000</td>\n",
              "    </tr>\n",
              "    <tr>\n",
              "      <th>25%</th>\n",
              "      <td>20.7500</td>\n",
              "      <td>0.017857</td>\n",
              "      <td>64.000000</td>\n",
              "    </tr>\n",
              "    <tr>\n",
              "      <th>50%</th>\n",
              "      <td>40.5000</td>\n",
              "      <td>0.524455</td>\n",
              "      <td>78.000000</td>\n",
              "    </tr>\n",
              "    <tr>\n",
              "      <th>75%</th>\n",
              "      <td>60.2500</td>\n",
              "      <td>5.171296</td>\n",
              "      <td>90.000000</td>\n",
              "    </tr>\n",
              "    <tr>\n",
              "      <th>max</th>\n",
              "      <td>80.0000</td>\n",
              "      <td>16.387205</td>\n",
              "      <td>94.000000</td>\n",
              "    </tr>\n",
              "  </tbody>\n",
              "</table>\n",
              "</div>\n",
              "      <button class=\"colab-df-convert\" onclick=\"convertToInteractive('df-c0b765db-f769-4fd2-957e-37c62c6f063b')\"\n",
              "              title=\"Convert this dataframe to an interactive table.\"\n",
              "              style=\"display:none;\">\n",
              "        \n",
              "  <svg xmlns=\"http://www.w3.org/2000/svg\" height=\"24px\"viewBox=\"0 0 24 24\"\n",
              "       width=\"24px\">\n",
              "    <path d=\"M0 0h24v24H0V0z\" fill=\"none\"/>\n",
              "    <path d=\"M18.56 5.44l.94 2.06.94-2.06 2.06-.94-2.06-.94-.94-2.06-.94 2.06-2.06.94zm-11 1L8.5 8.5l.94-2.06 2.06-.94-2.06-.94L8.5 2.5l-.94 2.06-2.06.94zm10 10l.94 2.06.94-2.06 2.06-.94-2.06-.94-.94-2.06-.94 2.06-2.06.94z\"/><path d=\"M17.41 7.96l-1.37-1.37c-.4-.4-.92-.59-1.43-.59-.52 0-1.04.2-1.43.59L10.3 9.45l-7.72 7.72c-.78.78-.78 2.05 0 2.83L4 21.41c.39.39.9.59 1.41.59.51 0 1.02-.2 1.41-.59l7.78-7.78 2.81-2.81c.8-.78.8-2.07 0-2.86zM5.41 20L4 18.59l7.72-7.72 1.47 1.35L5.41 20z\"/>\n",
              "  </svg>\n",
              "      </button>\n",
              "      \n",
              "  <style>\n",
              "    .colab-df-container {\n",
              "      display:flex;\n",
              "      flex-wrap:wrap;\n",
              "      gap: 12px;\n",
              "    }\n",
              "\n",
              "    .colab-df-convert {\n",
              "      background-color: #E8F0FE;\n",
              "      border: none;\n",
              "      border-radius: 50%;\n",
              "      cursor: pointer;\n",
              "      display: none;\n",
              "      fill: #1967D2;\n",
              "      height: 32px;\n",
              "      padding: 0 0 0 0;\n",
              "      width: 32px;\n",
              "    }\n",
              "\n",
              "    .colab-df-convert:hover {\n",
              "      background-color: #E2EBFA;\n",
              "      box-shadow: 0px 1px 2px rgba(60, 64, 67, 0.3), 0px 1px 3px 1px rgba(60, 64, 67, 0.15);\n",
              "      fill: #174EA6;\n",
              "    }\n",
              "\n",
              "    [theme=dark] .colab-df-convert {\n",
              "      background-color: #3B4455;\n",
              "      fill: #D2E3FC;\n",
              "    }\n",
              "\n",
              "    [theme=dark] .colab-df-convert:hover {\n",
              "      background-color: #434B5C;\n",
              "      box-shadow: 0px 1px 3px 1px rgba(0, 0, 0, 0.15);\n",
              "      filter: drop-shadow(0px 1px 2px rgba(0, 0, 0, 0.3));\n",
              "      fill: #FFFFFF;\n",
              "    }\n",
              "  </style>\n",
              "\n",
              "      <script>\n",
              "        const buttonEl =\n",
              "          document.querySelector('#df-c0b765db-f769-4fd2-957e-37c62c6f063b button.colab-df-convert');\n",
              "        buttonEl.style.display =\n",
              "          google.colab.kernel.accessAllowed ? 'block' : 'none';\n",
              "\n",
              "        async function convertToInteractive(key) {\n",
              "          const element = document.querySelector('#df-c0b765db-f769-4fd2-957e-37c62c6f063b');\n",
              "          const dataTable =\n",
              "            await google.colab.kernel.invokeFunction('convertToInteractive',\n",
              "                                                     [key], {});\n",
              "          if (!dataTable) return;\n",
              "\n",
              "          const docLinkHtml = 'Like what you see? Visit the ' +\n",
              "            '<a target=\"_blank\" href=https://colab.research.google.com/notebooks/data_table.ipynb>data table notebook</a>'\n",
              "            + ' to learn more about interactive tables.';\n",
              "          element.innerHTML = '';\n",
              "          dataTable['output_type'] = 'display_data';\n",
              "          await google.colab.output.renderOutput(dataTable, element);\n",
              "          const docLink = document.createElement('div');\n",
              "          docLink.innerHTML = docLinkHtml;\n",
              "          element.appendChild(docLink);\n",
              "        }\n",
              "      </script>\n",
              "    </div>\n",
              "  </div>\n",
              "  "
            ]
          },
          "metadata": {},
          "execution_count": 9
        }
      ]
    },
    {
      "cell_type": "code",
      "source": [
        "#To see number of colums available in the dataset\n",
        "data.columns"
      ],
      "metadata": {
        "colab": {
          "base_uri": "https://localhost:8080/"
        },
        "id": "bi7qBktuNDhJ",
        "outputId": "d34d76b0-6311-4584-b45c-ca5ee579704d"
      },
      "execution_count": null,
      "outputs": [
        {
          "output_type": "execute_result",
          "data": {
            "text/plain": [
              "Index(['No.', 'Time', 'Source', 'Destination', 'Protocol', 'Length', 'Info'], dtype='object')"
            ]
          },
          "metadata": {},
          "execution_count": 10
        }
      ]
    },
    {
      "cell_type": "code",
      "source": [
        "#to get the current shape of an array we use shape method\n",
        "data.shape"
      ],
      "metadata": {
        "colab": {
          "base_uri": "https://localhost:8080/"
        },
        "id": "uBW_G5pJNF4x",
        "outputId": "d91641f3-4ef7-4e83-c271-f0ea3ab9444c"
      },
      "execution_count": null,
      "outputs": [
        {
          "output_type": "execute_result",
          "data": {
            "text/plain": [
              "(80, 7)"
            ]
          },
          "metadata": {},
          "execution_count": 11
        }
      ]
    },
    {
      "cell_type": "code",
      "source": [
        "data.info()"
      ],
      "metadata": {
        "colab": {
          "base_uri": "https://localhost:8080/"
        },
        "id": "7pBm0zR6NKjX",
        "outputId": "7ff42e73-fe29-4461-ea2d-8dbff8af5363"
      },
      "execution_count": null,
      "outputs": [
        {
          "output_type": "stream",
          "name": "stdout",
          "text": [
            "<class 'pandas.core.frame.DataFrame'>\n",
            "RangeIndex: 80 entries, 0 to 79\n",
            "Data columns (total 7 columns):\n",
            " #   Column       Non-Null Count  Dtype  \n",
            "---  ------       --------------  -----  \n",
            " 0   No.          80 non-null     int64  \n",
            " 1   Time         80 non-null     float64\n",
            " 2   Source       80 non-null     object \n",
            " 3   Destination  80 non-null     object \n",
            " 4   Protocol     80 non-null     object \n",
            " 5   Length       80 non-null     int64  \n",
            " 6   Info         80 non-null     object \n",
            "dtypes: float64(1), int64(2), object(4)\n",
            "memory usage: 4.5+ KB\n"
          ]
        }
      ]
    },
    {
      "cell_type": "code",
      "source": [
        "#to convert letters into numbers we use labelencoder\n",
        "from sklearn import preprocessing\n",
        "le = preprocessing.LabelEncoder()#encoding categorical or textual data into numerical labels."
      ],
      "metadata": {
        "id": "H3jPq4_oNOS4"
      },
      "execution_count": null,
      "outputs": []
    },
    {
      "cell_type": "code",
      "source": [
        "le.fit(data['Source'])"
      ],
      "metadata": {
        "id": "2r3HlTXQNT13",
        "colab": {
          "base_uri": "https://localhost:8080/",
          "height": 75
        },
        "outputId": "16d644f2-8a4d-4a0c-dd21-c2e418402f16"
      },
      "execution_count": null,
      "outputs": [
        {
          "output_type": "execute_result",
          "data": {
            "text/plain": [
              "LabelEncoder()"
            ],
            "text/html": [
              "<style>#sk-container-id-1 {color: black;background-color: white;}#sk-container-id-1 pre{padding: 0;}#sk-container-id-1 div.sk-toggleable {background-color: white;}#sk-container-id-1 label.sk-toggleable__label {cursor: pointer;display: block;width: 100%;margin-bottom: 0;padding: 0.3em;box-sizing: border-box;text-align: center;}#sk-container-id-1 label.sk-toggleable__label-arrow:before {content: \"▸\";float: left;margin-right: 0.25em;color: #696969;}#sk-container-id-1 label.sk-toggleable__label-arrow:hover:before {color: black;}#sk-container-id-1 div.sk-estimator:hover label.sk-toggleable__label-arrow:before {color: black;}#sk-container-id-1 div.sk-toggleable__content {max-height: 0;max-width: 0;overflow: hidden;text-align: left;background-color: #f0f8ff;}#sk-container-id-1 div.sk-toggleable__content pre {margin: 0.2em;color: black;border-radius: 0.25em;background-color: #f0f8ff;}#sk-container-id-1 input.sk-toggleable__control:checked~div.sk-toggleable__content {max-height: 200px;max-width: 100%;overflow: auto;}#sk-container-id-1 input.sk-toggleable__control:checked~label.sk-toggleable__label-arrow:before {content: \"▾\";}#sk-container-id-1 div.sk-estimator input.sk-toggleable__control:checked~label.sk-toggleable__label {background-color: #d4ebff;}#sk-container-id-1 div.sk-label input.sk-toggleable__control:checked~label.sk-toggleable__label {background-color: #d4ebff;}#sk-container-id-1 input.sk-hidden--visually {border: 0;clip: rect(1px 1px 1px 1px);clip: rect(1px, 1px, 1px, 1px);height: 1px;margin: -1px;overflow: hidden;padding: 0;position: absolute;width: 1px;}#sk-container-id-1 div.sk-estimator {font-family: monospace;background-color: #f0f8ff;border: 1px dotted black;border-radius: 0.25em;box-sizing: border-box;margin-bottom: 0.5em;}#sk-container-id-1 div.sk-estimator:hover {background-color: #d4ebff;}#sk-container-id-1 div.sk-parallel-item::after {content: \"\";width: 100%;border-bottom: 1px solid gray;flex-grow: 1;}#sk-container-id-1 div.sk-label:hover label.sk-toggleable__label {background-color: #d4ebff;}#sk-container-id-1 div.sk-serial::before {content: \"\";position: absolute;border-left: 1px solid gray;box-sizing: border-box;top: 0;bottom: 0;left: 50%;z-index: 0;}#sk-container-id-1 div.sk-serial {display: flex;flex-direction: column;align-items: center;background-color: white;padding-right: 0.2em;padding-left: 0.2em;position: relative;}#sk-container-id-1 div.sk-item {position: relative;z-index: 1;}#sk-container-id-1 div.sk-parallel {display: flex;align-items: stretch;justify-content: center;background-color: white;position: relative;}#sk-container-id-1 div.sk-item::before, #sk-container-id-1 div.sk-parallel-item::before {content: \"\";position: absolute;border-left: 1px solid gray;box-sizing: border-box;top: 0;bottom: 0;left: 50%;z-index: -1;}#sk-container-id-1 div.sk-parallel-item {display: flex;flex-direction: column;z-index: 1;position: relative;background-color: white;}#sk-container-id-1 div.sk-parallel-item:first-child::after {align-self: flex-end;width: 50%;}#sk-container-id-1 div.sk-parallel-item:last-child::after {align-self: flex-start;width: 50%;}#sk-container-id-1 div.sk-parallel-item:only-child::after {width: 0;}#sk-container-id-1 div.sk-dashed-wrapped {border: 1px dashed gray;margin: 0 0.4em 0.5em 0.4em;box-sizing: border-box;padding-bottom: 0.4em;background-color: white;}#sk-container-id-1 div.sk-label label {font-family: monospace;font-weight: bold;display: inline-block;line-height: 1.2em;}#sk-container-id-1 div.sk-label-container {text-align: center;}#sk-container-id-1 div.sk-container {/* jupyter's `normalize.less` sets `[hidden] { display: none; }` but bootstrap.min.css set `[hidden] { display: none !important; }` so we also need the `!important` here to be able to override the default hidden behavior on the sphinx rendered scikit-learn.org. See: https://github.com/scikit-learn/scikit-learn/issues/21755 */display: inline-block !important;position: relative;}#sk-container-id-1 div.sk-text-repr-fallback {display: none;}</style><div id=\"sk-container-id-1\" class=\"sk-top-container\"><div class=\"sk-text-repr-fallback\"><pre>LabelEncoder()</pre><b>In a Jupyter environment, please rerun this cell to show the HTML representation or trust the notebook. <br />On GitHub, the HTML representation is unable to render, please try loading this page with nbviewer.org.</b></div><div class=\"sk-container\" hidden><div class=\"sk-item\"><div class=\"sk-estimator sk-toggleable\"><input class=\"sk-toggleable__control sk-hidden--visually\" id=\"sk-estimator-id-1\" type=\"checkbox\" checked><label for=\"sk-estimator-id-1\" class=\"sk-toggleable__label sk-toggleable__label-arrow\">LabelEncoder</label><div class=\"sk-toggleable__content\"><pre>LabelEncoder()</pre></div></div></div></div></div>"
            ]
          },
          "metadata": {},
          "execution_count": 14
        }
      ]
    },
    {
      "cell_type": "code",
      "source": [
        "data['Source'] = le.transform(data['Source'])"
      ],
      "metadata": {
        "id": "eA3ZH7IONY80"
      },
      "execution_count": null,
      "outputs": []
    },
    {
      "cell_type": "code",
      "source": [
        "le.fit(data['Destination'])"
      ],
      "metadata": {
        "id": "GdLM-UZGNc0p",
        "colab": {
          "base_uri": "https://localhost:8080/",
          "height": 75
        },
        "outputId": "af65f9e2-78d2-4611-caf3-99551abd4e4c"
      },
      "execution_count": null,
      "outputs": [
        {
          "output_type": "execute_result",
          "data": {
            "text/plain": [
              "LabelEncoder()"
            ],
            "text/html": [
              "<style>#sk-container-id-2 {color: black;background-color: white;}#sk-container-id-2 pre{padding: 0;}#sk-container-id-2 div.sk-toggleable {background-color: white;}#sk-container-id-2 label.sk-toggleable__label {cursor: pointer;display: block;width: 100%;margin-bottom: 0;padding: 0.3em;box-sizing: border-box;text-align: center;}#sk-container-id-2 label.sk-toggleable__label-arrow:before {content: \"▸\";float: left;margin-right: 0.25em;color: #696969;}#sk-container-id-2 label.sk-toggleable__label-arrow:hover:before {color: black;}#sk-container-id-2 div.sk-estimator:hover label.sk-toggleable__label-arrow:before {color: black;}#sk-container-id-2 div.sk-toggleable__content {max-height: 0;max-width: 0;overflow: hidden;text-align: left;background-color: #f0f8ff;}#sk-container-id-2 div.sk-toggleable__content pre {margin: 0.2em;color: black;border-radius: 0.25em;background-color: #f0f8ff;}#sk-container-id-2 input.sk-toggleable__control:checked~div.sk-toggleable__content {max-height: 200px;max-width: 100%;overflow: auto;}#sk-container-id-2 input.sk-toggleable__control:checked~label.sk-toggleable__label-arrow:before {content: \"▾\";}#sk-container-id-2 div.sk-estimator input.sk-toggleable__control:checked~label.sk-toggleable__label {background-color: #d4ebff;}#sk-container-id-2 div.sk-label input.sk-toggleable__control:checked~label.sk-toggleable__label {background-color: #d4ebff;}#sk-container-id-2 input.sk-hidden--visually {border: 0;clip: rect(1px 1px 1px 1px);clip: rect(1px, 1px, 1px, 1px);height: 1px;margin: -1px;overflow: hidden;padding: 0;position: absolute;width: 1px;}#sk-container-id-2 div.sk-estimator {font-family: monospace;background-color: #f0f8ff;border: 1px dotted black;border-radius: 0.25em;box-sizing: border-box;margin-bottom: 0.5em;}#sk-container-id-2 div.sk-estimator:hover {background-color: #d4ebff;}#sk-container-id-2 div.sk-parallel-item::after {content: \"\";width: 100%;border-bottom: 1px solid gray;flex-grow: 1;}#sk-container-id-2 div.sk-label:hover label.sk-toggleable__label {background-color: #d4ebff;}#sk-container-id-2 div.sk-serial::before {content: \"\";position: absolute;border-left: 1px solid gray;box-sizing: border-box;top: 0;bottom: 0;left: 50%;z-index: 0;}#sk-container-id-2 div.sk-serial {display: flex;flex-direction: column;align-items: center;background-color: white;padding-right: 0.2em;padding-left: 0.2em;position: relative;}#sk-container-id-2 div.sk-item {position: relative;z-index: 1;}#sk-container-id-2 div.sk-parallel {display: flex;align-items: stretch;justify-content: center;background-color: white;position: relative;}#sk-container-id-2 div.sk-item::before, #sk-container-id-2 div.sk-parallel-item::before {content: \"\";position: absolute;border-left: 1px solid gray;box-sizing: border-box;top: 0;bottom: 0;left: 50%;z-index: -1;}#sk-container-id-2 div.sk-parallel-item {display: flex;flex-direction: column;z-index: 1;position: relative;background-color: white;}#sk-container-id-2 div.sk-parallel-item:first-child::after {align-self: flex-end;width: 50%;}#sk-container-id-2 div.sk-parallel-item:last-child::after {align-self: flex-start;width: 50%;}#sk-container-id-2 div.sk-parallel-item:only-child::after {width: 0;}#sk-container-id-2 div.sk-dashed-wrapped {border: 1px dashed gray;margin: 0 0.4em 0.5em 0.4em;box-sizing: border-box;padding-bottom: 0.4em;background-color: white;}#sk-container-id-2 div.sk-label label {font-family: monospace;font-weight: bold;display: inline-block;line-height: 1.2em;}#sk-container-id-2 div.sk-label-container {text-align: center;}#sk-container-id-2 div.sk-container {/* jupyter's `normalize.less` sets `[hidden] { display: none; }` but bootstrap.min.css set `[hidden] { display: none !important; }` so we also need the `!important` here to be able to override the default hidden behavior on the sphinx rendered scikit-learn.org. See: https://github.com/scikit-learn/scikit-learn/issues/21755 */display: inline-block !important;position: relative;}#sk-container-id-2 div.sk-text-repr-fallback {display: none;}</style><div id=\"sk-container-id-2\" class=\"sk-top-container\"><div class=\"sk-text-repr-fallback\"><pre>LabelEncoder()</pre><b>In a Jupyter environment, please rerun this cell to show the HTML representation or trust the notebook. <br />On GitHub, the HTML representation is unable to render, please try loading this page with nbviewer.org.</b></div><div class=\"sk-container\" hidden><div class=\"sk-item\"><div class=\"sk-estimator sk-toggleable\"><input class=\"sk-toggleable__control sk-hidden--visually\" id=\"sk-estimator-id-2\" type=\"checkbox\" checked><label for=\"sk-estimator-id-2\" class=\"sk-toggleable__label sk-toggleable__label-arrow\">LabelEncoder</label><div class=\"sk-toggleable__content\"><pre>LabelEncoder()</pre></div></div></div></div></div>"
            ]
          },
          "metadata": {},
          "execution_count": 16
        }
      ]
    },
    {
      "cell_type": "code",
      "source": [
        "data['Destination'] = le.transform(data['Destination'])"
      ],
      "metadata": {
        "id": "zsqObHHhNfPc"
      },
      "execution_count": null,
      "outputs": []
    },
    {
      "cell_type": "code",
      "source": [
        "le.fit(data['Protocol'])"
      ],
      "metadata": {
        "colab": {
          "base_uri": "https://localhost:8080/",
          "height": 75
        },
        "id": "mvIv8T7ywQNw",
        "outputId": "665ecfff-c99f-473c-d1a7-8f7bf7a82c55"
      },
      "execution_count": null,
      "outputs": [
        {
          "output_type": "execute_result",
          "data": {
            "text/plain": [
              "LabelEncoder()"
            ],
            "text/html": [
              "<style>#sk-container-id-3 {color: black;background-color: white;}#sk-container-id-3 pre{padding: 0;}#sk-container-id-3 div.sk-toggleable {background-color: white;}#sk-container-id-3 label.sk-toggleable__label {cursor: pointer;display: block;width: 100%;margin-bottom: 0;padding: 0.3em;box-sizing: border-box;text-align: center;}#sk-container-id-3 label.sk-toggleable__label-arrow:before {content: \"▸\";float: left;margin-right: 0.25em;color: #696969;}#sk-container-id-3 label.sk-toggleable__label-arrow:hover:before {color: black;}#sk-container-id-3 div.sk-estimator:hover label.sk-toggleable__label-arrow:before {color: black;}#sk-container-id-3 div.sk-toggleable__content {max-height: 0;max-width: 0;overflow: hidden;text-align: left;background-color: #f0f8ff;}#sk-container-id-3 div.sk-toggleable__content pre {margin: 0.2em;color: black;border-radius: 0.25em;background-color: #f0f8ff;}#sk-container-id-3 input.sk-toggleable__control:checked~div.sk-toggleable__content {max-height: 200px;max-width: 100%;overflow: auto;}#sk-container-id-3 input.sk-toggleable__control:checked~label.sk-toggleable__label-arrow:before {content: \"▾\";}#sk-container-id-3 div.sk-estimator input.sk-toggleable__control:checked~label.sk-toggleable__label {background-color: #d4ebff;}#sk-container-id-3 div.sk-label input.sk-toggleable__control:checked~label.sk-toggleable__label {background-color: #d4ebff;}#sk-container-id-3 input.sk-hidden--visually {border: 0;clip: rect(1px 1px 1px 1px);clip: rect(1px, 1px, 1px, 1px);height: 1px;margin: -1px;overflow: hidden;padding: 0;position: absolute;width: 1px;}#sk-container-id-3 div.sk-estimator {font-family: monospace;background-color: #f0f8ff;border: 1px dotted black;border-radius: 0.25em;box-sizing: border-box;margin-bottom: 0.5em;}#sk-container-id-3 div.sk-estimator:hover {background-color: #d4ebff;}#sk-container-id-3 div.sk-parallel-item::after {content: \"\";width: 100%;border-bottom: 1px solid gray;flex-grow: 1;}#sk-container-id-3 div.sk-label:hover label.sk-toggleable__label {background-color: #d4ebff;}#sk-container-id-3 div.sk-serial::before {content: \"\";position: absolute;border-left: 1px solid gray;box-sizing: border-box;top: 0;bottom: 0;left: 50%;z-index: 0;}#sk-container-id-3 div.sk-serial {display: flex;flex-direction: column;align-items: center;background-color: white;padding-right: 0.2em;padding-left: 0.2em;position: relative;}#sk-container-id-3 div.sk-item {position: relative;z-index: 1;}#sk-container-id-3 div.sk-parallel {display: flex;align-items: stretch;justify-content: center;background-color: white;position: relative;}#sk-container-id-3 div.sk-item::before, #sk-container-id-3 div.sk-parallel-item::before {content: \"\";position: absolute;border-left: 1px solid gray;box-sizing: border-box;top: 0;bottom: 0;left: 50%;z-index: -1;}#sk-container-id-3 div.sk-parallel-item {display: flex;flex-direction: column;z-index: 1;position: relative;background-color: white;}#sk-container-id-3 div.sk-parallel-item:first-child::after {align-self: flex-end;width: 50%;}#sk-container-id-3 div.sk-parallel-item:last-child::after {align-self: flex-start;width: 50%;}#sk-container-id-3 div.sk-parallel-item:only-child::after {width: 0;}#sk-container-id-3 div.sk-dashed-wrapped {border: 1px dashed gray;margin: 0 0.4em 0.5em 0.4em;box-sizing: border-box;padding-bottom: 0.4em;background-color: white;}#sk-container-id-3 div.sk-label label {font-family: monospace;font-weight: bold;display: inline-block;line-height: 1.2em;}#sk-container-id-3 div.sk-label-container {text-align: center;}#sk-container-id-3 div.sk-container {/* jupyter's `normalize.less` sets `[hidden] { display: none; }` but bootstrap.min.css set `[hidden] { display: none !important; }` so we also need the `!important` here to be able to override the default hidden behavior on the sphinx rendered scikit-learn.org. See: https://github.com/scikit-learn/scikit-learn/issues/21755 */display: inline-block !important;position: relative;}#sk-container-id-3 div.sk-text-repr-fallback {display: none;}</style><div id=\"sk-container-id-3\" class=\"sk-top-container\"><div class=\"sk-text-repr-fallback\"><pre>LabelEncoder()</pre><b>In a Jupyter environment, please rerun this cell to show the HTML representation or trust the notebook. <br />On GitHub, the HTML representation is unable to render, please try loading this page with nbviewer.org.</b></div><div class=\"sk-container\" hidden><div class=\"sk-item\"><div class=\"sk-estimator sk-toggleable\"><input class=\"sk-toggleable__control sk-hidden--visually\" id=\"sk-estimator-id-3\" type=\"checkbox\" checked><label for=\"sk-estimator-id-3\" class=\"sk-toggleable__label sk-toggleable__label-arrow\">LabelEncoder</label><div class=\"sk-toggleable__content\"><pre>LabelEncoder()</pre></div></div></div></div></div>"
            ]
          },
          "metadata": {},
          "execution_count": 18
        }
      ]
    },
    {
      "cell_type": "code",
      "source": [
        "data['Protocol'] = le.transform(data['Protocol'])"
      ],
      "metadata": {
        "id": "clzFMYy5wXBf"
      },
      "execution_count": null,
      "outputs": []
    },
    {
      "cell_type": "code",
      "source": [
        "data['Time'] = data['Time'].astype(int)"
      ],
      "metadata": {
        "id": "sQ97MmQIcmEw"
      },
      "execution_count": null,
      "outputs": []
    },
    {
      "cell_type": "code",
      "source": [
        "data.info()"
      ],
      "metadata": {
        "colab": {
          "base_uri": "https://localhost:8080/"
        },
        "id": "auJSJyM7NmHf",
        "outputId": "c878ea59-c2c7-4000-c6c7-8af483cf4c19"
      },
      "execution_count": null,
      "outputs": [
        {
          "output_type": "stream",
          "name": "stdout",
          "text": [
            "<class 'pandas.core.frame.DataFrame'>\n",
            "RangeIndex: 80 entries, 0 to 79\n",
            "Data columns (total 7 columns):\n",
            " #   Column       Non-Null Count  Dtype \n",
            "---  ------       --------------  ----- \n",
            " 0   No.          80 non-null     int64 \n",
            " 1   Time         80 non-null     int64 \n",
            " 2   Source       80 non-null     int64 \n",
            " 3   Destination  80 non-null     int64 \n",
            " 4   Protocol     80 non-null     int64 \n",
            " 5   Length       80 non-null     int64 \n",
            " 6   Info         80 non-null     object\n",
            "dtypes: int64(6), object(1)\n",
            "memory usage: 4.5+ KB\n"
          ]
        }
      ]
    },
    {
      "cell_type": "code",
      "source": [
        "le.fit(data['Info'])"
      ],
      "metadata": {
        "colab": {
          "base_uri": "https://localhost:8080/",
          "height": 75
        },
        "id": "GpxsilnZ0AAg",
        "outputId": "8f9371a8-383a-4921-c7c6-a2877ef10953"
      },
      "execution_count": null,
      "outputs": [
        {
          "output_type": "execute_result",
          "data": {
            "text/plain": [
              "LabelEncoder()"
            ],
            "text/html": [
              "<style>#sk-container-id-4 {color: black;background-color: white;}#sk-container-id-4 pre{padding: 0;}#sk-container-id-4 div.sk-toggleable {background-color: white;}#sk-container-id-4 label.sk-toggleable__label {cursor: pointer;display: block;width: 100%;margin-bottom: 0;padding: 0.3em;box-sizing: border-box;text-align: center;}#sk-container-id-4 label.sk-toggleable__label-arrow:before {content: \"▸\";float: left;margin-right: 0.25em;color: #696969;}#sk-container-id-4 label.sk-toggleable__label-arrow:hover:before {color: black;}#sk-container-id-4 div.sk-estimator:hover label.sk-toggleable__label-arrow:before {color: black;}#sk-container-id-4 div.sk-toggleable__content {max-height: 0;max-width: 0;overflow: hidden;text-align: left;background-color: #f0f8ff;}#sk-container-id-4 div.sk-toggleable__content pre {margin: 0.2em;color: black;border-radius: 0.25em;background-color: #f0f8ff;}#sk-container-id-4 input.sk-toggleable__control:checked~div.sk-toggleable__content {max-height: 200px;max-width: 100%;overflow: auto;}#sk-container-id-4 input.sk-toggleable__control:checked~label.sk-toggleable__label-arrow:before {content: \"▾\";}#sk-container-id-4 div.sk-estimator input.sk-toggleable__control:checked~label.sk-toggleable__label {background-color: #d4ebff;}#sk-container-id-4 div.sk-label input.sk-toggleable__control:checked~label.sk-toggleable__label {background-color: #d4ebff;}#sk-container-id-4 input.sk-hidden--visually {border: 0;clip: rect(1px 1px 1px 1px);clip: rect(1px, 1px, 1px, 1px);height: 1px;margin: -1px;overflow: hidden;padding: 0;position: absolute;width: 1px;}#sk-container-id-4 div.sk-estimator {font-family: monospace;background-color: #f0f8ff;border: 1px dotted black;border-radius: 0.25em;box-sizing: border-box;margin-bottom: 0.5em;}#sk-container-id-4 div.sk-estimator:hover {background-color: #d4ebff;}#sk-container-id-4 div.sk-parallel-item::after {content: \"\";width: 100%;border-bottom: 1px solid gray;flex-grow: 1;}#sk-container-id-4 div.sk-label:hover label.sk-toggleable__label {background-color: #d4ebff;}#sk-container-id-4 div.sk-serial::before {content: \"\";position: absolute;border-left: 1px solid gray;box-sizing: border-box;top: 0;bottom: 0;left: 50%;z-index: 0;}#sk-container-id-4 div.sk-serial {display: flex;flex-direction: column;align-items: center;background-color: white;padding-right: 0.2em;padding-left: 0.2em;position: relative;}#sk-container-id-4 div.sk-item {position: relative;z-index: 1;}#sk-container-id-4 div.sk-parallel {display: flex;align-items: stretch;justify-content: center;background-color: white;position: relative;}#sk-container-id-4 div.sk-item::before, #sk-container-id-4 div.sk-parallel-item::before {content: \"\";position: absolute;border-left: 1px solid gray;box-sizing: border-box;top: 0;bottom: 0;left: 50%;z-index: -1;}#sk-container-id-4 div.sk-parallel-item {display: flex;flex-direction: column;z-index: 1;position: relative;background-color: white;}#sk-container-id-4 div.sk-parallel-item:first-child::after {align-self: flex-end;width: 50%;}#sk-container-id-4 div.sk-parallel-item:last-child::after {align-self: flex-start;width: 50%;}#sk-container-id-4 div.sk-parallel-item:only-child::after {width: 0;}#sk-container-id-4 div.sk-dashed-wrapped {border: 1px dashed gray;margin: 0 0.4em 0.5em 0.4em;box-sizing: border-box;padding-bottom: 0.4em;background-color: white;}#sk-container-id-4 div.sk-label label {font-family: monospace;font-weight: bold;display: inline-block;line-height: 1.2em;}#sk-container-id-4 div.sk-label-container {text-align: center;}#sk-container-id-4 div.sk-container {/* jupyter's `normalize.less` sets `[hidden] { display: none; }` but bootstrap.min.css set `[hidden] { display: none !important; }` so we also need the `!important` here to be able to override the default hidden behavior on the sphinx rendered scikit-learn.org. See: https://github.com/scikit-learn/scikit-learn/issues/21755 */display: inline-block !important;position: relative;}#sk-container-id-4 div.sk-text-repr-fallback {display: none;}</style><div id=\"sk-container-id-4\" class=\"sk-top-container\"><div class=\"sk-text-repr-fallback\"><pre>LabelEncoder()</pre><b>In a Jupyter environment, please rerun this cell to show the HTML representation or trust the notebook. <br />On GitHub, the HTML representation is unable to render, please try loading this page with nbviewer.org.</b></div><div class=\"sk-container\" hidden><div class=\"sk-item\"><div class=\"sk-estimator sk-toggleable\"><input class=\"sk-toggleable__control sk-hidden--visually\" id=\"sk-estimator-id-4\" type=\"checkbox\" checked><label for=\"sk-estimator-id-4\" class=\"sk-toggleable__label sk-toggleable__label-arrow\">LabelEncoder</label><div class=\"sk-toggleable__content\"><pre>LabelEncoder()</pre></div></div></div></div></div>"
            ]
          },
          "metadata": {},
          "execution_count": 22
        }
      ]
    },
    {
      "cell_type": "code",
      "source": [
        "data['Info'] = le.transform(data['Info'])"
      ],
      "metadata": {
        "id": "bORO8PPr0UeP"
      },
      "execution_count": null,
      "outputs": []
    },
    {
      "cell_type": "markdown",
      "source": [
        "*The \"seaborn\" library is a popular data visualization library in Python.<br>\n",
        "*The \"Cor\" It is commonly used to understand how variables are related to each other and to identify patterns or dependencies in the data.<br>\n",
        "*\"heatmap\" graphical representation of data in the form of a matrix."
      ],
      "metadata": {
        "id": "4FQ_ShDsD4_K"
      }
    },
    {
      "cell_type": "code",
      "source": [
        "import seaborn as sns\n",
        "import matplotlib.pyplot as plt\n",
        "plt.figure(figsize=(12,10)) #width and height\n",
        "cor = data.corr()\n",
        "sns.heatmap(cor, annot=True)\n",
        "plt.show()"
      ],
      "metadata": {
        "colab": {
          "base_uri": "https://localhost:8080/",
          "height": 836
        },
        "id": "UuRwUoe2xKcy",
        "outputId": "f5c6f0f9-b0fd-49b5-9d3f-85401adc3d27"
      },
      "execution_count": null,
      "outputs": [
        {
          "output_type": "display_data",
          "data": {
            "text/plain": [
              "<Figure size 1200x1000 with 2 Axes>"
            ],
            "image/png": "[encoded data removed]"
          },
          "metadata": {}
        }
      ]
    },
    {
      "cell_type": "code",
      "source": [
        "from sklearn.ensemble import RandomForestClassifier\n",
        "from sklearn.feature_selection import SelectFromModel\n",
        "import pandas as pd\n",
        "\n",
        "# Load the dataset\n",
        "data\n",
        "X = data.iloc[:, :-1]  # extracts all the columns except the, representing the features.\n",
        "y = data.iloc[:, -1]   # extracts only the last column, representing the target variable.\n",
        "\n",
        "# Create a random forest classifier\n",
        "clf = RandomForestClassifier()\n",
        "\n",
        "# Perform feature selection\n",
        "feat_selector = SelectFromModel(clf)\n",
        "feat_selector.fit(X, y)\n",
        "\n",
        "# Get the selected feature indices\n",
        "selected_features = feat_selector.get_support(indices=True)\n",
        "\n",
        "# Get the selected feature names\n",
        "selected_feature_names = list(X.columns[selected_features])\n",
        "\n",
        "# Print the selected feature names\n",
        "print(\"Selected Features:\")\n",
        "for feature in selected_feature_names:  #prints each selected feature name on a new line.\n",
        "    print(feature)\n"
      ],
      "metadata": {
        "colab": {
          "base_uri": "https://localhost:8080/"
        },
        "id": "Ch9iKM4_BQ-d",
        "outputId": "91c4d223-23e7-4a83-ada5-6a1a29f559e3"
      },
      "execution_count": null,
      "outputs": [
        {
          "output_type": "stream",
          "name": "stdout",
          "text": [
            "Selected Features:\n",
            "No.\n",
            "Source\n",
            "Destination\n",
            "Protocol\n"
          ]
        }
      ]
    },
    {
      "cell_type": "code",
      "source": [
        "from sklearn.model_selection import train_test_split\n",
        "X = data.drop(columns = [\"Source\"])#extracts the features from the dataset by dropping the column named \"Source\"\n",
        "Y = data['Source']#extracts the target variable from the dataset, assuming the column name is \"Source\".\n",
        "X_train, X_test,y_train, y_test = train_test_split(X ,Y ,test_size = 0.2,random_state=4)#data is split in a reproducible manner. X_train represents the feature matrix of the training set.\n",
        "#y_train represents the target variable values of the training set."
      ],
      "metadata": {
        "id": "2Rjq5-tOBU_N"
      },
      "execution_count": null,
      "outputs": []
    },
    {
      "cell_type": "code",
      "source": [
        "from sklearn.svm import SVC  # Support Vector Classifier\n",
        "from sklearn.ensemble import RandomForestClassifier  # Random Forest Classifier\n",
        "from sklearn.linear_model import LogisticRegression  # Logistic Regression Classifier\n",
        "from sklearn.neighbors import KNeighborsClassifier  # k-Nearest Neighbors Classifier\n",
        "from sklearn.tree import DecisionTreeClassifier  # Decision Tree Classifier\n"
      ],
      "metadata": {
        "id": "xZXomf48BX_J"
      },
      "execution_count": null,
      "outputs": []
    },
    {
      "cell_type": "code",
      "source": [
        "from sklearn.ensemble import RandomForestClassifier\n",
        "rf = RandomForestClassifier()\n",
        "rf.fit(X_train,y_train)"
      ],
      "metadata": {
        "colab": {
          "base_uri": "https://localhost:8080/",
          "height": 75
        },
        "id": "-gdGlzYZBavS",
        "outputId": "1702ea05-2259-4158-b724-b858f514a0e8"
      },
      "execution_count": null,
      "outputs": [
        {
          "output_type": "execute_result",
          "data": {
            "text/plain": [
              "RandomForestClassifier()"
            ],
            "text/html": [
              "<style>#sk-container-id-5 {color: black;background-color: white;}#sk-container-id-5 pre{padding: 0;}#sk-container-id-5 div.sk-toggleable {background-color: white;}#sk-container-id-5 label.sk-toggleable__label {cursor: pointer;display: block;width: 100%;margin-bottom: 0;padding: 0.3em;box-sizing: border-box;text-align: center;}#sk-container-id-5 label.sk-toggleable__label-arrow:before {content: \"▸\";float: left;margin-right: 0.25em;color: #696969;}#sk-container-id-5 label.sk-toggleable__label-arrow:hover:before {color: black;}#sk-container-id-5 div.sk-estimator:hover label.sk-toggleable__label-arrow:before {color: black;}#sk-container-id-5 div.sk-toggleable__content {max-height: 0;max-width: 0;overflow: hidden;text-align: left;background-color: #f0f8ff;}#sk-container-id-5 div.sk-toggleable__content pre {margin: 0.2em;color: black;border-radius: 0.25em;background-color: #f0f8ff;}#sk-container-id-5 input.sk-toggleable__control:checked~div.sk-toggleable__content {max-height: 200px;max-width: 100%;overflow: auto;}#sk-container-id-5 input.sk-toggleable__control:checked~label.sk-toggleable__label-arrow:before {content: \"▾\";}#sk-container-id-5 div.sk-estimator input.sk-toggleable__control:checked~label.sk-toggleable__label {background-color: #d4ebff;}#sk-container-id-5 div.sk-label input.sk-toggleable__control:checked~label.sk-toggleable__label {background-color: #d4ebff;}#sk-container-id-5 input.sk-hidden--visually {border: 0;clip: rect(1px 1px 1px 1px);clip: rect(1px, 1px, 1px, 1px);height: 1px;margin: -1px;overflow: hidden;padding: 0;position: absolute;width: 1px;}#sk-container-id-5 div.sk-estimator {font-family: monospace;background-color: #f0f8ff;border: 1px dotted black;border-radius: 0.25em;box-sizing: border-box;margin-bottom: 0.5em;}#sk-container-id-5 div.sk-estimator:hover {background-color: #d4ebff;}#sk-container-id-5 div.sk-parallel-item::after {content: \"\";width: 100%;border-bottom: 1px solid gray;flex-grow: 1;}#sk-container-id-5 div.sk-label:hover label.sk-toggleable__label {background-color: #d4ebff;}#sk-container-id-5 div.sk-serial::before {content: \"\";position: absolute;border-left: 1px solid gray;box-sizing: border-box;top: 0;bottom: 0;left: 50%;z-index: 0;}#sk-container-id-5 div.sk-serial {display: flex;flex-direction: column;align-items: center;background-color: white;padding-right: 0.2em;padding-left: 0.2em;position: relative;}#sk-container-id-5 div.sk-item {position: relative;z-index: 1;}#sk-container-id-5 div.sk-parallel {display: flex;align-items: stretch;justify-content: center;background-color: white;position: relative;}#sk-container-id-5 div.sk-item::before, #sk-container-id-5 div.sk-parallel-item::before {content: \"\";position: absolute;border-left: 1px solid gray;box-sizing: border-box;top: 0;bottom: 0;left: 50%;z-index: -1;}#sk-container-id-5 div.sk-parallel-item {display: flex;flex-direction: column;z-index: 1;position: relative;background-color: white;}#sk-container-id-5 div.sk-parallel-item:first-child::after {align-self: flex-end;width: 50%;}#sk-container-id-5 div.sk-parallel-item:last-child::after {align-self: flex-start;width: 50%;}#sk-container-id-5 div.sk-parallel-item:only-child::after {width: 0;}#sk-container-id-5 div.sk-dashed-wrapped {border: 1px dashed gray;margin: 0 0.4em 0.5em 0.4em;box-sizing: border-box;padding-bottom: 0.4em;background-color: white;}#sk-container-id-5 div.sk-label label {font-family: monospace;font-weight: bold;display: inline-block;line-height: 1.2em;}#sk-container-id-5 div.sk-label-container {text-align: center;}#sk-container-id-5 div.sk-container {/* jupyter's `normalize.less` sets `[hidden] { display: none; }` but bootstrap.min.css set `[hidden] { display: none !important; }` so we also need the `!important` here to be able to override the default hidden behavior on the sphinx rendered scikit-learn.org. See: https://github.com/scikit-learn/scikit-learn/issues/21755 */display: inline-block !important;position: relative;}#sk-container-id-5 div.sk-text-repr-fallback {display: none;}</style><div id=\"sk-container-id-5\" class=\"sk-top-container\"><div class=\"sk-text-repr-fallback\"><pre>RandomForestClassifier()</pre><b>In a Jupyter environment, please rerun this cell to show the HTML representation or trust the notebook. <br />On GitHub, the HTML representation is unable to render, please try loading this page with nbviewer.org.</b></div><div class=\"sk-container\" hidden><div class=\"sk-item\"><div class=\"sk-estimator sk-toggleable\"><input class=\"sk-toggleable__control sk-hidden--visually\" id=\"sk-estimator-id-5\" type=\"checkbox\" checked><label for=\"sk-estimator-id-5\" class=\"sk-toggleable__label sk-toggleable__label-arrow\">RandomForestClassifier</label><div class=\"sk-toggleable__content\"><pre>RandomForestClassifier()</pre></div></div></div></div></div>"
            ]
          },
          "metadata": {},
          "execution_count": 28
        }
      ]
    },
    {
      "cell_type": "markdown",
      "source": [
        ": By comparing the predicted values (y_pred) with the true values (y_test), we can evaluate how well the model performs on unseen data. This allows us to assess the accuracy and quality of the predictions made by the classifier.<br>\n",
        "*Precision measures the proportion of true positive predictions,Higher precision values indicate a lower rate of false positives.<br>\n",
        "*Recall: It indicates the model's ability to capture the positive instances correctly. <br>\n",
        "*F1-score: It provides a balanced measure that combines both precision and recall<br>\n",
        "*Support shows how many samples belong to each class, helping to understand the distribution of the classes.<br>\n",
        "*macro avg : average of precision, recall, and F1-score for all classes without considering the class imbalance<br>\n",
        "*weighted avg: average of precision, recall, and F1-score for all classes, considering the class imbalance.\n"
      ],
      "metadata": {
        "id": "OKhOzpmsJV2G"
      }
    },
    {
      "cell_type": "code",
      "source": [
        "from sklearn.metrics import classification_report,accuracy_score\n",
        "y_pred = rf.predict(X_test)\n",
        "print(classification_report(y_test,y_pred))\n",
        "print(accuracy_score(y_test,y_pred))"
      ],
      "metadata": {
        "colab": {
          "base_uri": "https://localhost:8080/"
        },
        "id": "Aj4lsbPTBdv-",
        "outputId": "a12a1f03-cbd2-4075-9308-319f2df8ea34"
      },
      "execution_count": null,
      "outputs": [
        {
          "output_type": "stream",
          "name": "stdout",
          "text": [
            "              precision    recall  f1-score   support\n",
            "\n",
            "           0       0.80      1.00      0.89         4\n",
            "           1       1.00      0.67      0.80         3\n",
            "           2       1.00      0.80      0.89         5\n",
            "           4       0.50      1.00      0.67         1\n",
            "           5       1.00      1.00      1.00         1\n",
            "           7       1.00      1.00      1.00         2\n",
            "\n",
            "    accuracy                           0.88        16\n",
            "   macro avg       0.88      0.91      0.87        16\n",
            "weighted avg       0.92      0.88      0.88        16\n",
            "\n",
            "0.875\n"
          ]
        }
      ]
    },
    {
      "cell_type": "code",
      "source": [
        "from sklearn.metrics import confusion_matrix\n",
        "conf_matrix = confusion_matrix(y_test, y_pred)\n",
        "print(\"Confusion matrix:\\n\", conf_matrix)"
      ],
      "metadata": {
        "colab": {
          "base_uri": "https://localhost:8080/"
        },
        "id": "LQG-I7pEBhTF",
        "outputId": "d695ca49-3fc4-47de-8e9b-b20591543756"
      },
      "execution_count": null,
      "outputs": [
        {
          "output_type": "stream",
          "name": "stdout",
          "text": [
            "Confusion matrix:\n",
            " [[4 0 0 0 0 0]\n",
            " [1 2 0 0 0 0]\n",
            " [0 0 4 1 0 0]\n",
            " [0 0 0 1 0 0]\n",
            " [0 0 0 0 1 0]\n",
            " [0 0 0 0 0 2]]\n"
          ]
        }
      ]
    },
    {
      "cell_type": "markdown",
      "source": [
        " It is a 6x6 matrix where the rows represent the actual classes, and the columns represent the predicted classes.\n",
        "\n",
        "Row 1 (Actual Class 0):\n",
        "\n",
        "True Negatives (TN): The model correctly predicted 4 instances as Class 0.\n",
        "False Positives (FP): The model incorrectly predicted 0 instances as Class 0 when they were not.\n",
        "Row 2 (Actual Class 1):\n",
        "\n",
        "False Negatives (FN): The model incorrectly predicted 1 instance as not Class 1 when it was.\n",
        "True Positives (TP): The model correctly predicted 2 instances as Class 1.\n",
        "Row 3 (Actual Class 2):\n",
        "\n",
        "True Negatives (TN): The model correctly predicted 5 instances as Class 2.\n",
        "False Positives (FP): The model incorrectly predicted 0 instances as Class 2 when they were not.\n",
        "Row 4 (Actual Class 4):\n",
        "\n",
        "True Negatives (TN): The model correctly predicted 1 instance as Class 4.\n",
        "False Positives (FP): The model incorrectly predicted 0 instances as Class 4 when they were not.\n",
        "Row 5 (Actual Class 5):\n",
        "\n",
        "True Negatives (TN): The model correctly predicted 1 instance as Class 5.\n",
        "False Positives (FP): The model incorrectly predicted 0 instances as Class 5 when they were not.\n",
        "Row 6 (Actual Class 7):\n",
        "\n",
        "True Negatives (TN): The model correctly predicted 2 instances as Class 7.\n",
        "False Positives (FP): The model incorrectly predicted 0 instances as Class 7 when they were not"
      ],
      "metadata": {
        "id": "PnJUsYy9M4fM"
      }
    },
    {
      "cell_type": "code",
      "source": [
        "pip install jellyfish"
      ],
      "metadata": {
        "colab": {
          "base_uri": "https://localhost:8080/"
        },
        "id": "ps8V4AvZSAd9",
        "outputId": "12e14e64-ab92-4708-a8aa-def96f8feed7"
      },
      "execution_count": null,
      "outputs": [
        {
          "output_type": "stream",
          "name": "stdout",
          "text": [
            "Looking in indexes: https://pypi.org/simple, https://us-python.pkg.dev/colab-wheels/public/simple/\n",
            "Collecting jellyfish\n",
            "  Downloading jellyfish-1.0.0-cp310-cp310-manylinux_2_17_x86_64.manylinux2014_x86_64.whl (1.2 MB)\n",
            "\u001b[2K     \u001b[90m━━━━━━━━━━━━━━━━━━━━━━━━━━━━━━━━━━━━━━━━\u001b[0m \u001b[32m1.2/1.2 MB\u001b[0m \u001b[31m47.1 MB/s\u001b[0m eta \u001b[36m0:00:00\u001b[0m\n",
            "\u001b[?25hInstalling collected packages: jellyfish\n",
            "Successfully installed jellyfish-1.0.0\n"
          ]
        }
      ]
    },
    {
      "cell_type": "code",
      "source": [
        "import jellyfish"
      ],
      "metadata": {
        "id": "ZMZGwRuOSPeR"
      },
      "execution_count": null,
      "outputs": []
    },
    {
      "cell_type": "code",
      "source": [
        "pip install --upgrade jellyfish\n"
      ],
      "metadata": {
        "colab": {
          "base_uri": "https://localhost:8080/"
        },
        "id": "5RT0jDp3SU1Q",
        "outputId": "973debeb-812f-4dfc-edb3-d3fa4a43676c"
      },
      "execution_count": null,
      "outputs": [
        {
          "output_type": "stream",
          "name": "stdout",
          "text": [
            "Looking in indexes: https://pypi.org/simple, https://us-python.pkg.dev/colab-wheels/public/simple/\n",
            "Requirement already satisfied: jellyfish in /usr/local/lib/python3.10/dist-packages (1.0.0)\n"
          ]
        }
      ]
    },
    {
      "cell_type": "code",
      "source": [
        "!pip show jellyfish\n"
      ],
      "metadata": {
        "colab": {
          "base_uri": "https://localhost:8080/"
        },
        "id": "Hp0djAqJSZbq",
        "outputId": "a2d876c9-f9da-44cf-9706-74169bb759dc"
      },
      "execution_count": null,
      "outputs": [
        {
          "output_type": "stream",
          "name": "stdout",
          "text": [
            "Name: jellyfish\n",
            "Version: 1.0.0\n",
            "Summary: Approximate and phonetic matching of strings.\n",
            "Home-page: \n",
            "Author: James Turk <dev@jamesturk.net>\n",
            "Author-email: James Turk <dev@jamesturk.net>\n",
            "License: MIT\n",
            "Location: /usr/local/lib/python3.10/dist-packages\n",
            "Requires: \n",
            "Required-by: \n"
          ]
        }
      ]
    },
    {
      "cell_type": "code",
      "source": [
        "#Jellyfish is a Python library that provides a set of algorithms for approximate and phonetic string matching.\n",
        "#It can also be used for feature selection by measuring the similarity of different features in a dataset\n",
        "import jellyfish\n",
        "import pandas as pd\n",
        "\n",
        "# Define the similarity function\n",
        "def similarity(feature1, feature2):\n",
        "    return jellyfish.jaro_winkler(str(feature1), str(feature2))\n",
        "\n",
        "# Calculate the similarity matrix\n",
        "similarity_matrix = pd.DataFrame(index=data.columns, columns=data.columns)\n",
        "for i in range(len(data.columns)):  #iterate over each pair of features in data to calculate their similarity.\n",
        "    for j in range(i, len(data.columns)):  #the inner loop iterates over the columns from the current column to the end.\n",
        "        score = similarity(data.iloc[:, i], data.iloc[:, j])\n",
        "        similarity_matrix.iloc[i, j] = score\n",
        "        similarity_matrix.iloc[j, i] = score\n",
        "\n",
        "# Rank the features by their similarity scores\n",
        "ranked_features = similarity_matrix.sum().sort_values(ascending=False).index.tolist()\n",
        "\n",
        "# Select the top-k features\n",
        "k = 4\n",
        "selected_features = ranked_features[:k]\n",
        "\n",
        "# Print the selected features\n",
        "print(selected_features)\n",
        "\n",
        "# we first load the dataset and define the similarity function as the Jaro-Winkler distance,\n",
        "#which is a measure of the similarity between two strings.\n",
        "#We then calculate the similarity matrix by comparing each pair of features in the dataset.\n",
        "#Next, we rank the features by their similarity scores and select the top-k features. Finally, we print the selected features.\n",
        "#Note that you can adjust the value of k to select a different number of features."
      ],
      "metadata": {
        "colab": {
          "base_uri": "https://localhost:8080/"
        },
        "id": "UWwqD-eQScTD",
        "outputId": "01f3147d-1b46-4782-99db-ce0982feb307"
      },
      "execution_count": null,
      "outputs": [
        {
          "output_type": "stream",
          "name": "stdout",
          "text": [
            "['Info', 'Destination', 'No.', 'Source']\n"
          ]
        }
      ]
    },
    {
      "cell_type": "markdown",
      "source": [
        "**Finding Accuracy and Confusion matrix**"
      ],
      "metadata": {
        "id": "CXroXlSZSejf"
      }
    },
    {
      "cell_type": "code",
      "source": [
        "from sklearn.model_selection import train_test_split\n",
        "A = data.drop(columns = [\"Info\"])\n",
        "B = data['Info']\n",
        "A_train, A_test,b_train, b_test = train_test_split(A ,B ,test_size = 20,random_state=90)"
      ],
      "metadata": {
        "id": "91ydKp5sVg5X"
      },
      "execution_count": null,
      "outputs": []
    },
    {
      "cell_type": "code",
      "source": [
        "from sklearn.svm import SVC  # Support Vector Classifier\n",
        "from sklearn.ensemble import RandomForestClassifier  # Random Forest Classifier\n",
        "from sklearn.linear_model import LogisticRegression  # Logistic Regression Classifier\n",
        "from sklearn.neighbors import KNeighborsClassifier  # k-Nearest Neighbors Classifier\n",
        "from sklearn.tree import DecisionTreeClassifier  # Decision Tree Classifier\n"
      ],
      "metadata": {
        "id": "IdytpQ-uChZT"
      },
      "execution_count": null,
      "outputs": []
    },
    {
      "cell_type": "code",
      "source": [
        "from sklearn.ensemble import RandomForestClassifier\n",
        "rf = RandomForestClassifier()\n",
        "rf.fit(A_train,b_train)"
      ],
      "metadata": {
        "colab": {
          "base_uri": "https://localhost:8080/",
          "height": 75
        },
        "id": "vEdTSmk6CkKo",
        "outputId": "8cf44f8a-96ab-435c-bdcd-54b1a48b9ff7"
      },
      "execution_count": null,
      "outputs": [
        {
          "output_type": "execute_result",
          "data": {
            "text/plain": [
              "RandomForestClassifier()"
            ],
            "text/html": [
              "<style>#sk-container-id-6 {color: black;background-color: white;}#sk-container-id-6 pre{padding: 0;}#sk-container-id-6 div.sk-toggleable {background-color: white;}#sk-container-id-6 label.sk-toggleable__label {cursor: pointer;display: block;width: 100%;margin-bottom: 0;padding: 0.3em;box-sizing: border-box;text-align: center;}#sk-container-id-6 label.sk-toggleable__label-arrow:before {content: \"▸\";float: left;margin-right: 0.25em;color: #696969;}#sk-container-id-6 label.sk-toggleable__label-arrow:hover:before {color: black;}#sk-container-id-6 div.sk-estimator:hover label.sk-toggleable__label-arrow:before {color: black;}#sk-container-id-6 div.sk-toggleable__content {max-height: 0;max-width: 0;overflow: hidden;text-align: left;background-color: #f0f8ff;}#sk-container-id-6 div.sk-toggleable__content pre {margin: 0.2em;color: black;border-radius: 0.25em;background-color: #f0f8ff;}#sk-container-id-6 input.sk-toggleable__control:checked~div.sk-toggleable__content {max-height: 200px;max-width: 100%;overflow: auto;}#sk-container-id-6 input.sk-toggleable__control:checked~label.sk-toggleable__label-arrow:before {content: \"▾\";}#sk-container-id-6 div.sk-estimator input.sk-toggleable__control:checked~label.sk-toggleable__label {background-color: #d4ebff;}#sk-container-id-6 div.sk-label input.sk-toggleable__control:checked~label.sk-toggleable__label {background-color: #d4ebff;}#sk-container-id-6 input.sk-hidden--visually {border: 0;clip: rect(1px 1px 1px 1px);clip: rect(1px, 1px, 1px, 1px);height: 1px;margin: -1px;overflow: hidden;padding: 0;position: absolute;width: 1px;}#sk-container-id-6 div.sk-estimator {font-family: monospace;background-color: #f0f8ff;border: 1px dotted black;border-radius: 0.25em;box-sizing: border-box;margin-bottom: 0.5em;}#sk-container-id-6 div.sk-estimator:hover {background-color: #d4ebff;}#sk-container-id-6 div.sk-parallel-item::after {content: \"\";width: 100%;border-bottom: 1px solid gray;flex-grow: 1;}#sk-container-id-6 div.sk-label:hover label.sk-toggleable__label {background-color: #d4ebff;}#sk-container-id-6 div.sk-serial::before {content: \"\";position: absolute;border-left: 1px solid gray;box-sizing: border-box;top: 0;bottom: 0;left: 50%;z-index: 0;}#sk-container-id-6 div.sk-serial {display: flex;flex-direction: column;align-items: center;background-color: white;padding-right: 0.2em;padding-left: 0.2em;position: relative;}#sk-container-id-6 div.sk-item {position: relative;z-index: 1;}#sk-container-id-6 div.sk-parallel {display: flex;align-items: stretch;justify-content: center;background-color: white;position: relative;}#sk-container-id-6 div.sk-item::before, #sk-container-id-6 div.sk-parallel-item::before {content: \"\";position: absolute;border-left: 1px solid gray;box-sizing: border-box;top: 0;bottom: 0;left: 50%;z-index: -1;}#sk-container-id-6 div.sk-parallel-item {display: flex;flex-direction: column;z-index: 1;position: relative;background-color: white;}#sk-container-id-6 div.sk-parallel-item:first-child::after {align-self: flex-end;width: 50%;}#sk-container-id-6 div.sk-parallel-item:last-child::after {align-self: flex-start;width: 50%;}#sk-container-id-6 div.sk-parallel-item:only-child::after {width: 0;}#sk-container-id-6 div.sk-dashed-wrapped {border: 1px dashed gray;margin: 0 0.4em 0.5em 0.4em;box-sizing: border-box;padding-bottom: 0.4em;background-color: white;}#sk-container-id-6 div.sk-label label {font-family: monospace;font-weight: bold;display: inline-block;line-height: 1.2em;}#sk-container-id-6 div.sk-label-container {text-align: center;}#sk-container-id-6 div.sk-container {/* jupyter's `normalize.less` sets `[hidden] { display: none; }` but bootstrap.min.css set `[hidden] { display: none !important; }` so we also need the `!important` here to be able to override the default hidden behavior on the sphinx rendered scikit-learn.org. See: https://github.com/scikit-learn/scikit-learn/issues/21755 */display: inline-block !important;position: relative;}#sk-container-id-6 div.sk-text-repr-fallback {display: none;}</style><div id=\"sk-container-id-6\" class=\"sk-top-container\"><div class=\"sk-text-repr-fallback\"><pre>RandomForestClassifier()</pre><b>In a Jupyter environment, please rerun this cell to show the HTML representation or trust the notebook. <br />On GitHub, the HTML representation is unable to render, please try loading this page with nbviewer.org.</b></div><div class=\"sk-container\" hidden><div class=\"sk-item\"><div class=\"sk-estimator sk-toggleable\"><input class=\"sk-toggleable__control sk-hidden--visually\" id=\"sk-estimator-id-6\" type=\"checkbox\" checked><label for=\"sk-estimator-id-6\" class=\"sk-toggleable__label sk-toggleable__label-arrow\">RandomForestClassifier</label><div class=\"sk-toggleable__content\"><pre>RandomForestClassifier()</pre></div></div></div></div></div>"
            ]
          },
          "metadata": {},
          "execution_count": 38
        }
      ]
    },
    {
      "cell_type": "code",
      "source": [
        "from sklearn.metrics import classification_report,accuracy_score\n",
        "b_pred = rf.predict(A_test)\n",
        "print(classification_report(b_test,b_pred,zero_division=1)) #zero_division=1, the warning message will not be raised, and the affected metrics will be assigned a value of 1 for labels\n",
        "print(accuracy_score(b_test,b_pred))"
      ],
      "metadata": {
        "colab": {
          "base_uri": "https://localhost:8080/"
        },
        "id": "8JBQvefLCp1f",
        "outputId": "1e843039-a476-4e74-d5bb-f1c6a5c8c02b"
      },
      "execution_count": null,
      "outputs": [
        {
          "output_type": "stream",
          "name": "stdout",
          "text": [
            "              precision    recall  f1-score   support\n",
            "\n",
            "           1       0.00      1.00      0.00         0\n",
            "           2       1.00      1.00      1.00         1\n",
            "           3       1.00      1.00      1.00        13\n",
            "           9       1.00      1.00      1.00         1\n",
            "          12       1.00      1.00      1.00         3\n",
            "          13       1.00      0.00      0.00         1\n",
            "          15       1.00      1.00      1.00         1\n",
            "\n",
            "    accuracy                           0.95        20\n",
            "   macro avg       0.86      0.86      0.71        20\n",
            "weighted avg       1.00      0.95      0.95        20\n",
            "\n",
            "0.95\n"
          ]
        }
      ]
    },
    {
      "cell_type": "code",
      "source": [
        "from sklearn.metrics import confusion_matrix\n",
        "conf_matrix = confusion_matrix(b_test, b_pred)\n",
        "print(\"Confusion matrix:\\n\", conf_matrix)"
      ],
      "metadata": {
        "colab": {
          "base_uri": "https://localhost:8080/"
        },
        "id": "FfOIKI_2CzQc",
        "outputId": "9f6a60d4-48f8-4783-bf4e-f27712ef0ab5"
      },
      "execution_count": null,
      "outputs": [
        {
          "output_type": "stream",
          "name": "stdout",
          "text": [
            "Confusion matrix:\n",
            " [[ 0  0  0  0  0  0  0]\n",
            " [ 0  1  0  0  0  0  0]\n",
            " [ 0  0 13  0  0  0  0]\n",
            " [ 0  0  0  1  0  0  0]\n",
            " [ 0  0  0  0  3  0  0]\n",
            " [ 1  0  0  0  0  0  0]\n",
            " [ 0  0  0  0  0  0  1]]\n"
          ]
        }
      ]
    },
    {
      "cell_type": "markdown",
      "source": [
        "The model correctly predicted one sample in the first class (Class 1) and none of the other classes.\n",
        "The model correctly predicted 13 samples in the second class (Class 2) and none of the other classes.\n",
        "The model correctly predicted one sample in the third class (Class 3) and none of the other classes.\n",
        "The model correctly predicted three samples in the fourth class (Class 4) and none of the other classes.\n",
        "The model incorrectly predicted one sample in the second class (Class 2) as belonging to the fifth class (Class 5).\n",
        "The model incorrectly predicted one sample in the second class (Class 2) as belonging to the sixth class (Class 6).\n",
        "In summary, the model performed well on the second and fourth classes, but not on the other classes. It made two errors in total, one each for the fifth and sixth classes.\n",
        "\n",
        "<br>\n",
        "Row 1: The true class label is 0, and there are no instances predicted as class 0.<br>\n",
        "Row 2: The true class label is 1, and there is 1 instance correctly predicted as class 1.<br>\n",
        "Row 3: The true class label is 2, and there are 13 instances correctly predicted as class 2.<br>\n",
        "Row 4: The true class label is 3, and there is 1 instance correctly predicted as class 3.<br>\n",
        "Row 5: The true class label is 4, and there are 3 instances correctly predicted as class 4.<br>\n",
        "Row 6: The true class label is 5, and there is 1 instance incorrectly predicted as class 0.<br>\n",
        "Row 7: The true class label is 6, and there is 1 instance correctly predicted as class 6."
      ],
      "metadata": {
        "id": "Kq_9OBrHeC05"
      }
    },
    {
      "cell_type": "code",
      "source": [
        "import matplotlib.pyplot as plt\n",
        "from sklearn.metrics import accuracy_score\n",
        "\n",
        "# Assuming you have already predicted the labels 'y_pred' and 'b_pred', and have the true labels 'y_test' and 'b_test'\n",
        "# Calculate the accuracy scores\n",
        "accuracy_y = accuracy_score(y_test, y_pred)\n",
        "accuracy_b = accuracy_score(b_test, b_pred)\n",
        "\n",
        "# Assuming you have a list of accuracy scores over multiple iterations for both cases\n",
        "accuracy_scores_y = [0.0,0.2,0.4,0.6,0.8,0.9375]  # Replace with your actual accuracy scores for y\n",
        "accuracy_scores_b = [0.0,0.2,0.4,0.6,0.8,0.95]  # Replace with your actual accuracy scores for b\n",
        "\n",
        "# Plotting the line graphs for accuracy scores\n",
        "iterations = range(1, len(accuracy_scores_y) + 1)\n",
        "\n",
        "plt.plot(iterations, accuracy_scores_y, marker='o', label='RF Accuracy')\n",
        "plt.plot(iterations, accuracy_scores_b, marker='o', label='jelly & RF Accuracy')\n",
        "\n",
        "plt.xlabel('Iterations')\n",
        "plt.ylabel('Accuracy Score')\n",
        "plt.title('Accuracy over Iterations')\n",
        "plt.legend()\n",
        "plt.xticks(iterations)\n",
        "plt.ylim(0, 1)  # Adjust the y-axis limits if necessary\n",
        "plt.show()\n"
      ],
      "metadata": {
        "colab": {
          "base_uri": "https://localhost:8080/",
          "height": 472
        },
        "id": "3CyImN5LFR57",
        "outputId": "9bf7e793-c2b8-4d50-c4e0-786ac62c3e1f"
      },
      "execution_count": null,
      "outputs": [
        {
          "output_type": "display_data",
          "data": {
            "text/plain": [
              "<Figure size 640x480 with 1 Axes>"
            ],
            "image/png": "[encoded data removed]"
          },
          "metadata": {}
        }
      ]
    },
    {
      "cell_type": "code",
      "source": [
        "!pip install optuna"
      ],
      "metadata": {
        "colab": {
          "base_uri": "https://localhost:8080/"
        },
        "id": "M-sEJ3JkF0Ps",
        "outputId": "c9694f71-e2f6-47f5-eea5-5e9e50f9a340"
      },
      "execution_count": null,
      "outputs": [
        {
          "output_type": "stream",
          "name": "stdout",
          "text": [
            "Looking in indexes: https://pypi.org/simple, https://us-python.pkg.dev/colab-wheels/public/simple/\n",
            "Collecting optuna\n",
            "  Downloading optuna-3.2.0-py3-none-any.whl (390 kB)\n",
            "\u001b[2K     \u001b[90m━━━━━━━━━━━━━━━━━━━━━━━━━━━━━━━━━━━━━━\u001b[0m \u001b[32m390.6/390.6 kB\u001b[0m \u001b[31m11.2 MB/s\u001b[0m eta \u001b[36m0:00:00\u001b[0m\n",
            "\u001b[?25hCollecting alembic>=1.5.0 (from optuna)\n",
            "  Downloading alembic-1.11.1-py3-none-any.whl (224 kB)\n",
            "\u001b[2K     \u001b[90m━━━━━━━━━━━━━━━━━━━━━━━━━━━━━━━━━━━━━━\u001b[0m \u001b[32m224.5/224.5 kB\u001b[0m \u001b[31m12.3 MB/s\u001b[0m eta \u001b[36m0:00:00\u001b[0m\n",
            "\u001b[?25hCollecting cmaes>=0.9.1 (from optuna)\n",
            "  Downloading cmaes-0.9.1-py3-none-any.whl (21 kB)\n",
            "Collecting colorlog (from optuna)\n",
            "  Downloading colorlog-6.7.0-py2.py3-none-any.whl (11 kB)\n",
            "Requirement already satisfied: numpy in /usr/local/lib/python3.10/dist-packages (from optuna) (1.22.4)\n",
            "Requirement already satisfied: packaging>=20.0 in /usr/local/lib/python3.10/dist-packages (from optuna) (23.1)\n",
            "Requirement already satisfied: sqlalchemy>=1.3.0 in /usr/local/lib/python3.10/dist-packages (from optuna) (2.0.16)\n",
            "Requirement already satisfied: tqdm in /usr/local/lib/python3.10/dist-packages (from optuna) (4.65.0)\n",
            "Requirement already satisfied: PyYAML in /usr/local/lib/python3.10/dist-packages (from optuna) (6.0)\n",
            "Collecting Mako (from alembic>=1.5.0->optuna)\n",
            "  Downloading Mako-1.2.4-py3-none-any.whl (78 kB)\n",
            "\u001b[2K     \u001b[90m━━━━━━━━━━━━━━━━━━━━━━━━━━━━━━━━━━━━━━━━\u001b[0m \u001b[32m78.7/78.7 kB\u001b[0m \u001b[31m5.3 MB/s\u001b[0m eta \u001b[36m0:00:00\u001b[0m\n",
            "\u001b[?25hRequirement already satisfied: typing-extensions>=4 in /usr/local/lib/python3.10/dist-packages (from alembic>=1.5.0->optuna) (4.6.3)\n",
            "Requirement already satisfied: greenlet!=0.4.17 in /usr/local/lib/python3.10/dist-packages (from sqlalchemy>=1.3.0->optuna) (2.0.2)\n",
            "Requirement already satisfied: MarkupSafe>=0.9.2 in /usr/local/lib/python3.10/dist-packages (from Mako->alembic>=1.5.0->optuna) (2.1.3)\n",
            "Installing collected packages: Mako, colorlog, cmaes, alembic, optuna\n",
            "Successfully installed Mako-1.2.4 alembic-1.11.1 cmaes-0.9.1 colorlog-6.7.0 optuna-3.2.0\n"
          ]
        }
      ]
    },
    {
      "cell_type": "code",
      "source": [
        "import optuna\n",
        "import matplotlib.pyplot as plt\n",
        "\n",
        "def objective(Info):\n",
        "    A = Info.suggest_float(\"A\", -100, 100)\n",
        "    B = Info.suggest_categorical(\"B\", [-1, 0, 1])\n",
        "    return A ** 2 + B\n",
        "\n",
        "sampler = optuna.samplers.TPESampler(seed=200)\n",
        "study = optuna.create_study(sampler=sampler)\n",
        "study.optimize(objective, n_trials=20)\n",
        "\n",
        "# Retrieve the trials and sort them by their trial number\n",
        "trials = study.get_trials()\n",
        "trials.sort(key=lambda x: x.number)\n",
        "\n",
        "# Display the trials and their best values in order\n",
        "for i, trial in enumerate(trials):\n",
        "    print(f\"Trial {i+1}:\")\n",
        "    print(f\"  Value: {trial.value}\")\n",
        "    print(f\"  Params: {trial.params}\\n\")\n",
        "\n",
        "fig, ax = plt.subplots()\n",
        "ax.plot(range(1, len(study.trials) + 1), [t.value for t in study.trials])\n",
        "ax.set_xlabel(\"Number of Trials\")\n",
        "ax.set_ylabel(\"Objective Value\")\n",
        "plt.show()\n"
      ],
      "metadata": {
        "colab": {
          "base_uri": "https://localhost:8080/",
          "height": 1000
        },
        "id": "j9JN1XfsFxbe",
        "outputId": "8bc63eea-91c1-45ef-8336-2258199f8a52"
      },
      "execution_count": null,
      "outputs": [
        {
          "output_type": "stream",
          "name": "stderr",
          "text": [
            "[I 2023-06-27 03:53:48,548] A new study created in memory with name: no-name-0ccf9942-af98-46f4-abe1-c46fb324ab9f\n",
            "[I 2023-06-27 03:53:48,554] Trial 0 finished with value: 8014.985494964789 and parameters: {'A': 89.52645137033406, 'B': 0}. Best is trial 0 with value: 8014.985494964789.\n",
            "[I 2023-06-27 03:53:48,558] Trial 1 finished with value: 2791.8120917259916 and parameters: {'A': 52.828137310774, 'B': 1}. Best is trial 1 with value: 2791.8120917259916.\n",
            "[I 2023-06-27 03:53:48,561] Trial 2 finished with value: 78.15519353272789 and parameters: {'A': -8.78380290834943, 'B': 1}. Best is trial 2 with value: 78.15519353272789.\n",
            "[I 2023-06-27 03:53:48,564] Trial 3 finished with value: 7166.1881988895475 and parameters: {'A': 84.65334133328435, 'B': 0}. Best is trial 2 with value: 78.15519353272789.\n",
            "[I 2023-06-27 03:53:48,568] Trial 4 finished with value: 3263.1525934809893 and parameters: {'A': 57.115257098966026, 'B': 1}. Best is trial 2 with value: 78.15519353272789.\n",
            "[I 2023-06-27 03:53:48,571] Trial 5 finished with value: 4252.347939495954 and parameters: {'A': 65.21002943946547, 'B': 0}. Best is trial 2 with value: 78.15519353272789.\n",
            "[I 2023-06-27 03:53:48,574] Trial 6 finished with value: 98.66226865974485 and parameters: {'A': -9.983099151052485, 'B': -1}. Best is trial 2 with value: 78.15519353272789.\n",
            "[I 2023-06-27 03:53:48,579] Trial 7 finished with value: 472.2475909854327 and parameters: {'A': 21.73125838476531, 'B': 0}. Best is trial 2 with value: 78.15519353272789.\n",
            "[I 2023-06-27 03:53:48,583] Trial 8 finished with value: 1291.847544166606 and parameters: {'A': 35.92836684524647, 'B': 1}. Best is trial 2 with value: 78.15519353272789.\n",
            "[I 2023-06-27 03:53:48,588] Trial 9 finished with value: 8942.69770524404 and parameters: {'A': 94.56583793973402, 'B': 0}. Best is trial 2 with value: 78.15519353272789.\n",
            "[I 2023-06-27 03:53:48,597] Trial 10 finished with value: 3705.5786790854218 and parameters: {'A': -60.88167769604762, 'B': -1}. Best is trial 2 with value: 78.15519353272789.\n",
            "[I 2023-06-27 03:53:48,608] Trial 11 finished with value: 381.2697984766891 and parameters: {'A': -19.551721112901777, 'B': -1}. Best is trial 2 with value: 78.15519353272789.\n",
            "[I 2023-06-27 03:53:48,618] Trial 12 finished with value: 17.473867109784802 and parameters: {'A': -4.2981236731607435, 'B': -1}. Best is trial 12 with value: 17.473867109784802.\n",
            "[I 2023-06-27 03:53:48,629] Trial 13 finished with value: 1094.2346120416005 and parameters: {'A': -33.094329001229205, 'B': -1}. Best is trial 12 with value: 17.473867109784802.\n",
            "[I 2023-06-27 03:53:48,639] Trial 14 finished with value: 137.00825933103778 and parameters: {'A': 11.662257900211166, 'B': 1}. Best is trial 12 with value: 17.473867109784802.\n",
            "[I 2023-06-27 03:53:48,649] Trial 15 finished with value: 7322.843007525671 and parameters: {'A': -85.57945435398423, 'B': -1}. Best is trial 12 with value: 17.473867109784802.\n",
            "[I 2023-06-27 03:53:48,658] Trial 16 finished with value: 78.02231819099029 and parameters: {'A': 8.776235992211598, 'B': 1}. Best is trial 12 with value: 17.473867109784802.\n",
            "[I 2023-06-27 03:53:48,669] Trial 17 finished with value: 241.4282621324696 and parameters: {'A': 15.570107967913055, 'B': -1}. Best is trial 12 with value: 17.473867109784802.\n",
            "[I 2023-06-27 03:53:48,683] Trial 18 finished with value: 1493.752526711269 and parameters: {'A': -38.636155692709245, 'B': 1}. Best is trial 12 with value: 17.473867109784802.\n",
            "[I 2023-06-27 03:53:48,696] Trial 19 finished with value: 21.424147965143447 and parameters: {'A': 4.735414233743807, 'B': -1}. Best is trial 12 with value: 17.473867109784802.\n"
          ]
        },
        {
          "output_type": "stream",
          "name": "stdout",
          "text": [
            "Trial 1:\n",
            "  Value: 8014.985494964789\n",
            "  Params: {'A': 89.52645137033406, 'B': 0}\n",
            "\n",
            "Trial 2:\n",
            "  Value: 2791.8120917259916\n",
            "  Params: {'A': 52.828137310774, 'B': 1}\n",
            "\n",
            "Trial 3:\n",
            "  Value: 78.15519353272789\n",
            "  Params: {'A': -8.78380290834943, 'B': 1}\n",
            "\n",
            "Trial 4:\n",
            "  Value: 7166.1881988895475\n",
            "  Params: {'A': 84.65334133328435, 'B': 0}\n",
            "\n",
            "Trial 5:\n",
            "  Value: 3263.1525934809893\n",
            "  Params: {'A': 57.115257098966026, 'B': 1}\n",
            "\n",
            "Trial 6:\n",
            "  Value: 4252.347939495954\n",
            "  Params: {'A': 65.21002943946547, 'B': 0}\n",
            "\n",
            "Trial 7:\n",
            "  Value: 98.66226865974485\n",
            "  Params: {'A': -9.983099151052485, 'B': -1}\n",
            "\n",
            "Trial 8:\n",
            "  Value: 472.2475909854327\n",
            "  Params: {'A': 21.73125838476531, 'B': 0}\n",
            "\n",
            "Trial 9:\n",
            "  Value: 1291.847544166606\n",
            "  Params: {'A': 35.92836684524647, 'B': 1}\n",
            "\n",
            "Trial 10:\n",
            "  Value: 8942.69770524404\n",
            "  Params: {'A': 94.56583793973402, 'B': 0}\n",
            "\n",
            "Trial 11:\n",
            "  Value: 3705.5786790854218\n",
            "  Params: {'A': -60.88167769604762, 'B': -1}\n",
            "\n",
            "Trial 12:\n",
            "  Value: 381.2697984766891\n",
            "  Params: {'A': -19.551721112901777, 'B': -1}\n",
            "\n",
            "Trial 13:\n",
            "  Value: 17.473867109784802\n",
            "  Params: {'A': -4.2981236731607435, 'B': -1}\n",
            "\n",
            "Trial 14:\n",
            "  Value: 1094.2346120416005\n",
            "  Params: {'A': -33.094329001229205, 'B': -1}\n",
            "\n",
            "Trial 15:\n",
            "  Value: 137.00825933103778\n",
            "  Params: {'A': 11.662257900211166, 'B': 1}\n",
            "\n",
            "Trial 16:\n",
            "  Value: 7322.843007525671\n",
            "  Params: {'A': -85.57945435398423, 'B': -1}\n",
            "\n",
            "Trial 17:\n",
            "  Value: 78.02231819099029\n",
            "  Params: {'A': 8.776235992211598, 'B': 1}\n",
            "\n",
            "Trial 18:\n",
            "  Value: 241.4282621324696\n",
            "  Params: {'A': 15.570107967913055, 'B': -1}\n",
            "\n",
            "Trial 19:\n",
            "  Value: 1493.752526711269\n",
            "  Params: {'A': -38.636155692709245, 'B': 1}\n",
            "\n",
            "Trial 20:\n",
            "  Value: 21.424147965143447\n",
            "  Params: {'A': 4.735414233743807, 'B': -1}\n",
            "\n"
          ]
        },
        {
          "output_type": "display_data",
          "data": {
            "text/plain": [
              "<Figure size 640x480 with 1 Axes>"
            ],
            "image/png": "[encoded data removed]"
          },
          "metadata": {}
        }
      ]
    },
    {
      "cell_type": "code",
      "source": [
        "import optuna\n",
        "\n",
        "\n",
        "def objective(Info):\n",
        "    A = Info.suggest_float(\"A\", -100, 100)\n",
        "    B = Info.suggest_categorical(\"B\", [-1, 0, 1])\n",
        "    return A ** 2 + B\n",
        "\n",
        "\n",
        "sampler = optuna.samplers.TPESampler(seed=200)\n",
        "study = optuna.create_study(sampler=sampler)\n",
        "study.optimize(objective, n_trials=20)\n",
        "\n",
        "# Retrieve the trials and sort them by their trial number\n",
        "trials = study.get_trials()\n",
        "trials.sort(key=lambda x: x.number)\n",
        "\n",
        "# Display the trials and their best values in order\n",
        "for i, trial in enumerate(trials):\n",
        "    print(f\"Trial {i+1}:\")\n",
        "    print(f\"  Value: {trial.value}\")\n",
        "    print(f\"  Params: {trial.params}\\n\")\n",
        "\n",
        "fig = optuna.visualization.plot_optimization_history(study)\n",
        "fig.show()\n",
        "\n",
        "\n"
      ],
      "metadata": {
        "colab": {
          "base_uri": "https://localhost:8080/",
          "height": 1000
        },
        "id": "kRmVfvBllYNe",
        "outputId": "5e260ca3-ddc8-40ce-fa83-7a6bfc21f7e9"
      },
      "execution_count": null,
      "outputs": [
        {
          "output_type": "stream",
          "name": "stderr",
          "text": [
            "[I 2023-06-27 03:53:54,557] A new study created in memory with name: no-name-cbc2385b-f1ef-4e11-8181-6aa4033ede87\n",
            "[I 2023-06-27 03:53:54,560] Trial 0 finished with value: 8014.985494964789 and parameters: {'A': 89.52645137033406, 'B': 0}. Best is trial 0 with value: 8014.985494964789.\n",
            "[I 2023-06-27 03:53:54,563] Trial 1 finished with value: 2791.8120917259916 and parameters: {'A': 52.828137310774, 'B': 1}. Best is trial 1 with value: 2791.8120917259916.\n",
            "[I 2023-06-27 03:53:54,566] Trial 2 finished with value: 78.15519353272789 and parameters: {'A': -8.78380290834943, 'B': 1}. Best is trial 2 with value: 78.15519353272789.\n",
            "[I 2023-06-27 03:53:54,569] Trial 3 finished with value: 7166.1881988895475 and parameters: {'A': 84.65334133328435, 'B': 0}. Best is trial 2 with value: 78.15519353272789.\n",
            "[I 2023-06-27 03:53:54,572] Trial 4 finished with value: 3263.1525934809893 and parameters: {'A': 57.115257098966026, 'B': 1}. Best is trial 2 with value: 78.15519353272789.\n",
            "[I 2023-06-27 03:53:54,575] Trial 5 finished with value: 4252.347939495954 and parameters: {'A': 65.21002943946547, 'B': 0}. Best is trial 2 with value: 78.15519353272789.\n",
            "[I 2023-06-27 03:53:54,578] Trial 6 finished with value: 98.66226865974485 and parameters: {'A': -9.983099151052485, 'B': -1}. Best is trial 2 with value: 78.15519353272789.\n",
            "[I 2023-06-27 03:53:54,582] Trial 7 finished with value: 472.2475909854327 and parameters: {'A': 21.73125838476531, 'B': 0}. Best is trial 2 with value: 78.15519353272789.\n",
            "[I 2023-06-27 03:53:54,585] Trial 8 finished with value: 1291.847544166606 and parameters: {'A': 35.92836684524647, 'B': 1}. Best is trial 2 with value: 78.15519353272789.\n",
            "[I 2023-06-27 03:53:54,588] Trial 9 finished with value: 8942.69770524404 and parameters: {'A': 94.56583793973402, 'B': 0}. Best is trial 2 with value: 78.15519353272789.\n",
            "[I 2023-06-27 03:53:54,602] Trial 10 finished with value: 3705.5786790854218 and parameters: {'A': -60.88167769604762, 'B': -1}. Best is trial 2 with value: 78.15519353272789.\n",
            "[I 2023-06-27 03:53:54,612] Trial 11 finished with value: 381.2697984766891 and parameters: {'A': -19.551721112901777, 'B': -1}. Best is trial 2 with value: 78.15519353272789.\n",
            "[I 2023-06-27 03:53:54,620] Trial 12 finished with value: 17.473867109784802 and parameters: {'A': -4.2981236731607435, 'B': -1}. Best is trial 12 with value: 17.473867109784802.\n",
            "[I 2023-06-27 03:53:54,629] Trial 13 finished with value: 1094.2346120416005 and parameters: {'A': -33.094329001229205, 'B': -1}. Best is trial 12 with value: 17.473867109784802.\n",
            "[I 2023-06-27 03:53:54,638] Trial 14 finished with value: 137.00825933103778 and parameters: {'A': 11.662257900211166, 'B': 1}. Best is trial 12 with value: 17.473867109784802.\n",
            "[I 2023-06-27 03:53:54,646] Trial 15 finished with value: 7322.843007525671 and parameters: {'A': -85.57945435398423, 'B': -1}. Best is trial 12 with value: 17.473867109784802.\n",
            "[I 2023-06-27 03:53:54,656] Trial 16 finished with value: 78.02231819099029 and parameters: {'A': 8.776235992211598, 'B': 1}. Best is trial 12 with value: 17.473867109784802.\n",
            "[I 2023-06-27 03:53:54,665] Trial 17 finished with value: 241.4282621324696 and parameters: {'A': 15.570107967913055, 'B': -1}. Best is trial 12 with value: 17.473867109784802.\n",
            "[I 2023-06-27 03:53:54,674] Trial 18 finished with value: 1493.752526711269 and parameters: {'A': -38.636155692709245, 'B': 1}. Best is trial 12 with value: 17.473867109784802.\n",
            "[I 2023-06-27 03:53:54,686] Trial 19 finished with value: 21.424147965143447 and parameters: {'A': 4.735414233743807, 'B': -1}. Best is trial 12 with value: 17.473867109784802.\n"
          ]
        },
        {
          "output_type": "stream",
          "name": "stdout",
          "text": [
            "Trial 1:\n",
            "  Value: 8014.985494964789\n",
            "  Params: {'A': 89.52645137033406, 'B': 0}\n",
            "\n",
            "Trial 2:\n",
            "  Value: 2791.8120917259916\n",
            "  Params: {'A': 52.828137310774, 'B': 1}\n",
            "\n",
            "Trial 3:\n",
            "  Value: 78.15519353272789\n",
            "  Params: {'A': -8.78380290834943, 'B': 1}\n",
            "\n",
            "Trial 4:\n",
            "  Value: 7166.1881988895475\n",
            "  Params: {'A': 84.65334133328435, 'B': 0}\n",
            "\n",
            "Trial 5:\n",
            "  Value: 3263.1525934809893\n",
            "  Params: {'A': 57.115257098966026, 'B': 1}\n",
            "\n",
            "Trial 6:\n",
            "  Value: 4252.347939495954\n",
            "  Params: {'A': 65.21002943946547, 'B': 0}\n",
            "\n",
            "Trial 7:\n",
            "  Value: 98.66226865974485\n",
            "  Params: {'A': -9.983099151052485, 'B': -1}\n",
            "\n",
            "Trial 8:\n",
            "  Value: 472.2475909854327\n",
            "  Params: {'A': 21.73125838476531, 'B': 0}\n",
            "\n",
            "Trial 9:\n",
            "  Value: 1291.847544166606\n",
            "  Params: {'A': 35.92836684524647, 'B': 1}\n",
            "\n",
            "Trial 10:\n",
            "  Value: 8942.69770524404\n",
            "  Params: {'A': 94.56583793973402, 'B': 0}\n",
            "\n",
            "Trial 11:\n",
            "  Value: 3705.5786790854218\n",
            "  Params: {'A': -60.88167769604762, 'B': -1}\n",
            "\n",
            "Trial 12:\n",
            "  Value: 381.2697984766891\n",
            "  Params: {'A': -19.551721112901777, 'B': -1}\n",
            "\n",
            "Trial 13:\n",
            "  Value: 17.473867109784802\n",
            "  Params: {'A': -4.2981236731607435, 'B': -1}\n",
            "\n",
            "Trial 14:\n",
            "  Value: 1094.2346120416005\n",
            "  Params: {'A': -33.094329001229205, 'B': -1}\n",
            "\n",
            "Trial 15:\n",
            "  Value: 137.00825933103778\n",
            "  Params: {'A': 11.662257900211166, 'B': 1}\n",
            "\n",
            "Trial 16:\n",
            "  Value: 7322.843007525671\n",
            "  Params: {'A': -85.57945435398423, 'B': -1}\n",
            "\n",
            "Trial 17:\n",
            "  Value: 78.02231819099029\n",
            "  Params: {'A': 8.776235992211598, 'B': 1}\n",
            "\n",
            "Trial 18:\n",
            "  Value: 241.4282621324696\n",
            "  Params: {'A': 15.570107967913055, 'B': -1}\n",
            "\n",
            "Trial 19:\n",
            "  Value: 1493.752526711269\n",
            "  Params: {'A': -38.636155692709245, 'B': 1}\n",
            "\n",
            "Trial 20:\n",
            "  Value: 21.424147965143447\n",
            "  Params: {'A': 4.735414233743807, 'B': -1}\n",
            "\n"
          ]
        },
        {
          "output_type": "display_data",
          "data": {
            "text/html": [
              "<html>\n",
              "<head><meta charset=\"utf-8\" /></head>\n",
              "<body>\n",
              "    <div>            <script src=\"https://cdnjs.cloudflare.com/ajax/libs/mathjax/2.7.5/MathJax.js?config=TeX-AMS-MML_SVG\"></script><script type=\"text/javascript\">if (window.MathJax && window.MathJax.Hub && window.MathJax.Hub.Config) {window.MathJax.Hub.Config({SVG: {font: \"STIX-Web\"}});}</script>                <script type=\"text/javascript\">window.PlotlyConfig = {MathJaxConfig: 'local'};</script>\n",
              "        <script src=\"https://cdn.plot.ly/plotly-2.18.2.min.js\"></script>                <div id=\"2f992afd-6df6-4ac1-a4af-f0680c8cf2f5\" class=\"plotly-graph-div\" style=\"height:525px; width:100%;\"></div>            <script type=\"text/javascript\">                                    window.PLOTLYENV=window.PLOTLYENV || {};                                    if (document.getElementById(\"2f992afd-6df6-4ac1-a4af-f0680c8cf2f5\")) {                    Plotly.newPlot(                        \"2f992afd-6df6-4ac1-a4af-f0680c8cf2f5\",                        [{\"mode\":\"markers\",\"name\":\"Objective Value\",\"x\":[0,1,2,3,4,5,6,7,8,9,10,11,12,13,14,15,16,17,18,19],\"y\":[8014.985494964789,2791.8120917259916,78.15519353272789,7166.1881988895475,3263.1525934809893,4252.347939495954,98.66226865974485,472.2475909854327,1291.847544166606,8942.69770524404,3705.5786790854218,381.2697984766891,17.473867109784802,1094.2346120416005,137.00825933103778,7322.843007525671,78.02231819099029,241.4282621324696,1493.752526711269,21.424147965143447],\"type\":\"scatter\"},{\"name\":\"Best Value\",\"x\":[0,1,2,3,4,5,6,7,8,9,10,11,12,13,14,15,16,17,18,19],\"y\":[8014.985494964789,2791.8120917259916,78.15519353272789,78.15519353272789,78.15519353272789,78.15519353272789,78.15519353272789,78.15519353272789,78.15519353272789,78.15519353272789,78.15519353272789,78.15519353272789,17.473867109784802,17.473867109784802,17.473867109784802,17.473867109784802,17.473867109784802,17.473867109784802,17.473867109784802,17.473867109784802],\"type\":\"scatter\"}],                        {\"title\":{\"text\":\"Optimization History Plot\"},\"xaxis\":{\"title\":{\"text\":\"Trial\"}},\"yaxis\":{\"title\":{\"text\":\"Objective Value\"}},\"template\":{\"data\":{\"histogram2dcontour\":[{\"type\":\"histogram2dcontour\",\"colorbar\":{\"outlinewidth\":0,\"ticks\":\"\"},\"colorscale\":[[0.0,\"#0d0887\"],[0.1111111111111111,\"#46039f\"],[0.2222222222222222,\"#7201a8\"],[0.3333333333333333,\"#9c179e\"],[0.4444444444444444,\"#bd3786\"],[0.5555555555555556,\"#d8576b\"],[0.6666666666666666,\"#ed7953\"],[0.7777777777777778,\"#fb9f3a\"],[0.8888888888888888,\"#fdca26\"],[1.0,\"#f0f921\"]]}],\"choropleth\":[{\"type\":\"choropleth\",\"colorbar\":{\"outlinewidth\":0,\"ticks\":\"\"}}],\"histogram2d\":[{\"type\":\"histogram2d\",\"colorbar\":{\"outlinewidth\":0,\"ticks\":\"\"},\"colorscale\":[[0.0,\"#0d0887\"],[0.1111111111111111,\"#46039f\"],[0.2222222222222222,\"#7201a8\"],[0.3333333333333333,\"#9c179e\"],[0.4444444444444444,\"#bd3786\"],[0.5555555555555556,\"#d8576b\"],[0.6666666666666666,\"#ed7953\"],[0.7777777777777778,\"#fb9f3a\"],[0.8888888888888888,\"#fdca26\"],[1.0,\"#f0f921\"]]}],\"heatmap\":[{\"type\":\"heatmap\",\"colorbar\":{\"outlinewidth\":0,\"ticks\":\"\"},\"colorscale\":[[0.0,\"#0d0887\"],[0.1111111111111111,\"#46039f\"],[0.2222222222222222,\"#7201a8\"],[0.3333333333333333,\"#9c179e\"],[0.4444444444444444,\"#bd3786\"],[0.5555555555555556,\"#d8576b\"],[0.6666666666666666,\"#ed7953\"],[0.7777777777777778,\"#fb9f3a\"],[0.8888888888888888,\"#fdca26\"],[1.0,\"#f0f921\"]]}],\"heatmapgl\":[{\"type\":\"heatmapgl\",\"colorbar\":{\"outlinewidth\":0,\"ticks\":\"\"},\"colorscale\":[[0.0,\"#0d0887\"],[0.1111111111111111,\"#46039f\"],[0.2222222222222222,\"#7201a8\"],[0.3333333333333333,\"#9c179e\"],[0.4444444444444444,\"#bd3786\"],[0.5555555555555556,\"#d8576b\"],[0.6666666666666666,\"#ed7953\"],[0.7777777777777778,\"#fb9f3a\"],[0.8888888888888888,\"#fdca26\"],[1.0,\"#f0f921\"]]}],\"contourcarpet\":[{\"type\":\"contourcarpet\",\"colorbar\":{\"outlinewidth\":0,\"ticks\":\"\"}}],\"contour\":[{\"type\":\"contour\",\"colorbar\":{\"outlinewidth\":0,\"ticks\":\"\"},\"colorscale\":[[0.0,\"#0d0887\"],[0.1111111111111111,\"#46039f\"],[0.2222222222222222,\"#7201a8\"],[0.3333333333333333,\"#9c179e\"],[0.4444444444444444,\"#bd3786\"],[0.5555555555555556,\"#d8576b\"],[0.6666666666666666,\"#ed7953\"],[0.7777777777777778,\"#fb9f3a\"],[0.8888888888888888,\"#fdca26\"],[1.0,\"#f0f921\"]]}],\"surface\":[{\"type\":\"surface\",\"colorbar\":{\"outlinewidth\":0,\"ticks\":\"\"},\"colorscale\":[[0.0,\"#0d0887\"],[0.1111111111111111,\"#46039f\"],[0.2222222222222222,\"#7201a8\"],[0.3333333333333333,\"#9c179e\"],[0.4444444444444444,\"#bd3786\"],[0.5555555555555556,\"#d8576b\"],[0.6666666666666666,\"#ed7953\"],[0.7777777777777778,\"#fb9f3a\"],[0.8888888888888888,\"#fdca26\"],[1.0,\"#f0f921\"]]}],\"mesh3d\":[{\"type\":\"mesh3d\",\"colorbar\":{\"outlinewidth\":0,\"ticks\":\"\"}}],\"scatter\":[{\"fillpattern\":{\"fillmode\":\"overlay\",\"size\":10,\"solidity\":0.2},\"type\":\"scatter\"}],\"parcoords\":[{\"type\":\"parcoords\",\"line\":{\"colorbar\":{\"outlinewidth\":0,\"ticks\":\"\"}}}],\"scatterpolargl\":[{\"type\":\"scatterpolargl\",\"marker\":{\"colorbar\":{\"outlinewidth\":0,\"ticks\":\"\"}}}],\"bar\":[{\"error_x\":{\"color\":\"#2a3f5f\"},\"error_y\":{\"color\":\"#2a3f5f\"},\"marker\":{\"line\":{\"color\":\"#E5ECF6\",\"width\":0.5},\"pattern\":{\"fillmode\":\"overlay\",\"size\":10,\"solidity\":0.2}},\"type\":\"bar\"}],\"scattergeo\":[{\"type\":\"scattergeo\",\"marker\":{\"colorbar\":{\"outlinewidth\":0,\"ticks\":\"\"}}}],\"scatterpolar\":[{\"type\":\"scatterpolar\",\"marker\":{\"colorbar\":{\"outlinewidth\":0,\"ticks\":\"\"}}}],\"histogram\":[{\"marker\":{\"pattern\":{\"fillmode\":\"overlay\",\"size\":10,\"solidity\":0.2}},\"type\":\"histogram\"}],\"scattergl\":[{\"type\":\"scattergl\",\"marker\":{\"colorbar\":{\"outlinewidth\":0,\"ticks\":\"\"}}}],\"scatter3d\":[{\"type\":\"scatter3d\",\"line\":{\"colorbar\":{\"outlinewidth\":0,\"ticks\":\"\"}},\"marker\":{\"colorbar\":{\"outlinewidth\":0,\"ticks\":\"\"}}}],\"scattermapbox\":[{\"type\":\"scattermapbox\",\"marker\":{\"colorbar\":{\"outlinewidth\":0,\"ticks\":\"\"}}}],\"scatterternary\":[{\"type\":\"scatterternary\",\"marker\":{\"colorbar\":{\"outlinewidth\":0,\"ticks\":\"\"}}}],\"scattercarpet\":[{\"type\":\"scattercarpet\",\"marker\":{\"colorbar\":{\"outlinewidth\":0,\"ticks\":\"\"}}}],\"carpet\":[{\"aaxis\":{\"endlinecolor\":\"#2a3f5f\",\"gridcolor\":\"white\",\"linecolor\":\"white\",\"minorgridcolor\":\"white\",\"startlinecolor\":\"#2a3f5f\"},\"baxis\":{\"endlinecolor\":\"#2a3f5f\",\"gridcolor\":\"white\",\"linecolor\":\"white\",\"minorgridcolor\":\"white\",\"startlinecolor\":\"#2a3f5f\"},\"type\":\"carpet\"}],\"table\":[{\"cells\":{\"fill\":{\"color\":\"#EBF0F8\"},\"line\":{\"color\":\"white\"}},\"header\":{\"fill\":{\"color\":\"#C8D4E3\"},\"line\":{\"color\":\"white\"}},\"type\":\"table\"}],\"barpolar\":[{\"marker\":{\"line\":{\"color\":\"#E5ECF6\",\"width\":0.5},\"pattern\":{\"fillmode\":\"overlay\",\"size\":10,\"solidity\":0.2}},\"type\":\"barpolar\"}],\"pie\":[{\"automargin\":true,\"type\":\"pie\"}]},\"layout\":{\"autotypenumbers\":\"strict\",\"colorway\":[\"#636efa\",\"#EF553B\",\"#00cc96\",\"#ab63fa\",\"#FFA15A\",\"#19d3f3\",\"#FF6692\",\"#B6E880\",\"#FF97FF\",\"#FECB52\"],\"font\":{\"color\":\"#2a3f5f\"},\"hovermode\":\"closest\",\"hoverlabel\":{\"align\":\"left\"},\"paper_bgcolor\":\"white\",\"plot_bgcolor\":\"#E5ECF6\",\"polar\":{\"bgcolor\":\"#E5ECF6\",\"angularaxis\":{\"gridcolor\":\"white\",\"linecolor\":\"white\",\"ticks\":\"\"},\"radialaxis\":{\"gridcolor\":\"white\",\"linecolor\":\"white\",\"ticks\":\"\"}},\"ternary\":{\"bgcolor\":\"#E5ECF6\",\"aaxis\":{\"gridcolor\":\"white\",\"linecolor\":\"white\",\"ticks\":\"\"},\"baxis\":{\"gridcolor\":\"white\",\"linecolor\":\"white\",\"ticks\":\"\"},\"caxis\":{\"gridcolor\":\"white\",\"linecolor\":\"white\",\"ticks\":\"\"}},\"coloraxis\":{\"colorbar\":{\"outlinewidth\":0,\"ticks\":\"\"}},\"colorscale\":{\"sequential\":[[0.0,\"#0d0887\"],[0.1111111111111111,\"#46039f\"],[0.2222222222222222,\"#7201a8\"],[0.3333333333333333,\"#9c179e\"],[0.4444444444444444,\"#bd3786\"],[0.5555555555555556,\"#d8576b\"],[0.6666666666666666,\"#ed7953\"],[0.7777777777777778,\"#fb9f3a\"],[0.8888888888888888,\"#fdca26\"],[1.0,\"#f0f921\"]],\"sequentialminus\":[[0.0,\"#0d0887\"],[0.1111111111111111,\"#46039f\"],[0.2222222222222222,\"#7201a8\"],[0.3333333333333333,\"#9c179e\"],[0.4444444444444444,\"#bd3786\"],[0.5555555555555556,\"#d8576b\"],[0.6666666666666666,\"#ed7953\"],[0.7777777777777778,\"#fb9f3a\"],[0.8888888888888888,\"#fdca26\"],[1.0,\"#f0f921\"]],\"diverging\":[[0,\"#8e0152\"],[0.1,\"#c51b7d\"],[0.2,\"#de77ae\"],[0.3,\"#f1b6da\"],[0.4,\"#fde0ef\"],[0.5,\"#f7f7f7\"],[0.6,\"#e6f5d0\"],[0.7,\"#b8e186\"],[0.8,\"#7fbc41\"],[0.9,\"#4d9221\"],[1,\"#276419\"]]},\"xaxis\":{\"gridcolor\":\"white\",\"linecolor\":\"white\",\"ticks\":\"\",\"title\":{\"standoff\":15},\"zerolinecolor\":\"white\",\"automargin\":true,\"zerolinewidth\":2},\"yaxis\":{\"gridcolor\":\"white\",\"linecolor\":\"white\",\"ticks\":\"\",\"title\":{\"standoff\":15},\"zerolinecolor\":\"white\",\"automargin\":true,\"zerolinewidth\":2},\"scene\":{\"xaxis\":{\"backgroundcolor\":\"#E5ECF6\",\"gridcolor\":\"white\",\"linecolor\":\"white\",\"showbackground\":true,\"ticks\":\"\",\"zerolinecolor\":\"white\",\"gridwidth\":2},\"yaxis\":{\"backgroundcolor\":\"#E5ECF6\",\"gridcolor\":\"white\",\"linecolor\":\"white\",\"showbackground\":true,\"ticks\":\"\",\"zerolinecolor\":\"white\",\"gridwidth\":2},\"zaxis\":{\"backgroundcolor\":\"#E5ECF6\",\"gridcolor\":\"white\",\"linecolor\":\"white\",\"showbackground\":true,\"ticks\":\"\",\"zerolinecolor\":\"white\",\"gridwidth\":2}},\"shapedefaults\":{\"line\":{\"color\":\"#2a3f5f\"}},\"annotationdefaults\":{\"arrowcolor\":\"#2a3f5f\",\"arrowhead\":0,\"arrowwidth\":1},\"geo\":{\"bgcolor\":\"white\",\"landcolor\":\"#E5ECF6\",\"subunitcolor\":\"white\",\"showland\":true,\"showlakes\":true,\"lakecolor\":\"white\"},\"title\":{\"x\":0.05},\"mapbox\":{\"style\":\"light\"}}}},                        {\"responsive\": true}                    ).then(function(){\n",
              "                            \n",
              "var gd = document.getElementById('2f992afd-6df6-4ac1-a4af-f0680c8cf2f5');\n",
              "var x = new MutationObserver(function (mutations, observer) {{\n",
              "        var display = window.getComputedStyle(gd).display;\n",
              "        if (!display || display === 'none') {{\n",
              "            console.log([gd, 'removed!']);\n",
              "            Plotly.purge(gd);\n",
              "            observer.disconnect();\n",
              "        }}\n",
              "}});\n",
              "\n",
              "// Listen for the removal of the full notebook cells\n",
              "var notebookContainer = gd.closest('#notebook-container');\n",
              "if (notebookContainer) {{\n",
              "    x.observe(notebookContainer, {childList: true});\n",
              "}}\n",
              "\n",
              "// Listen for the clearing of the current output cell\n",
              "var outputEl = gd.closest('.output');\n",
              "if (outputEl) {{\n",
              "    x.observe(outputEl, {childList: true});\n",
              "}}\n",
              "\n",
              "                        })                };                            </script>        </div>\n",
              "</body>\n",
              "</html>"
            ]
          },
          "metadata": {}
        }
      ]
    },
    {
      "cell_type": "code",
      "source": [],
      "metadata": {
        "id": "dUDI1kDBA85Q"
      },
      "execution_count": null,
      "outputs": []
    }
  ]
}